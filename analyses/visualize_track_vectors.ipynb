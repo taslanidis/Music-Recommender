{
 "cells": [
  {
   "cell_type": "code",
   "execution_count": 1,
   "metadata": {},
   "outputs": [],
   "source": [
    "%load_ext autoreload\n",
    "%autoreload 2\n",
    "\n",
    "import sys\n",
    "import os\n",
    "from pathlib import Path\n",
    "sys.path.append(str(Path.cwd().parent))"
   ]
  },
  {
   "cell_type": "code",
   "execution_count": 2,
   "metadata": {},
   "outputs": [],
   "source": [
    "import pandas as pd\n",
    "import numpy as np"
   ]
  },
  {
   "cell_type": "code",
   "execution_count": 540,
   "metadata": {},
   "outputs": [
    {
     "name": "stderr",
     "output_type": "stream",
     "text": [
      "Processing artists: 100%|██████████| 1162095/1162095 [00:13<00:00, 89122.11it/s] \n",
      "Processing tracks: 100%|██████████| 586672/586672 [00:15<00:00, 38912.44it/s]\n",
      "Fitting normalizer: 100%|██████████| 12/12 [00:01<00:00,  7.04it/s]\n"
     ]
    }
   ],
   "source": [
    "from recommender_system.algorithm.nn_recommender import NearestNeighborsRecommender\n",
    "from recommender_system.algorithm.track_pool_processor import TrackPoolProcessor\n",
    "\n",
    "recommender = NearestNeighborsRecommender()"
   ]
  },
  {
   "cell_type": "code",
   "execution_count": 566,
   "metadata": {},
   "outputs": [],
   "source": [
    "playlist_ids = [\n",
    "    \"601Iusie3AK8PBbRBm8Bey\",\n",
    "    \"6XrF8id5mKXlBYkJ4v3qCG\",\n",
    "    \"6k1KOlbVwtv4Mk95tzafJK\"\n",
    "]"
   ]
  },
  {
   "cell_type": "code",
   "execution_count": 529,
   "metadata": {},
   "outputs": [],
   "source": [
    "playlist_ids = [\n",
    "    \"7LS5v4yLCycXwsrwNw6Klk\",\n",
    "    \"37i9dQZF1DX4WYpdgoIcn6\",\n",
    "    \"0OHx2BNf1Heu8EcGoQqRBD\",\n",
    "    \"37i9dQZF1DWWMOmoXKqHTD\"\n",
    "]"
   ]
  },
  {
   "cell_type": "code",
   "execution_count": 551,
   "metadata": {},
   "outputs": [],
   "source": [
    "playlist_ids = [\n",
    "    \"3N20dlGaDinECdsiluhIfv\",\n",
    "    \"37i9dQZF1EQoqCH7BwIYb7\"\n",
    "]"
   ]
  },
  {
   "cell_type": "code",
   "execution_count": 567,
   "metadata": {},
   "outputs": [],
   "source": [
    "tracks = []\n",
    "\n",
    "for playlist in playlist_ids:\n",
    "    tracks += recommender._data_provider.get_playlist_tracks(playlist_id=playlist)"
   ]
  },
  {
   "cell_type": "code",
   "execution_count": 568,
   "metadata": {},
   "outputs": [],
   "source": [
    "representation_vectors = [recommender._data_provider.get_track_representation_vector(track) for track in tracks]"
   ]
  },
  {
   "cell_type": "code",
   "execution_count": 569,
   "metadata": {},
   "outputs": [],
   "source": [
    "from recommender_system.algorithm.profile_creator import ProfileCreator\n",
    "\n",
    "profile_creator = ProfileCreator()"
   ]
  },
  {
   "cell_type": "code",
   "execution_count": 570,
   "metadata": {},
   "outputs": [
    {
     "data": {
      "text/plain": [
       "[<matplotlib.lines.Line2D at 0x257b5a44ca0>]"
      ]
     },
     "execution_count": 570,
     "metadata": {},
     "output_type": "execute_result"
    },
    {
     "data": {
      "image/png": "[encoded data removed]",
      "text/plain": [
       "<Figure size 640x480 with 1 Axes>"
      ]
     },
     "metadata": {},
     "output_type": "display_data"
    }
   ],
   "source": [
    "# choosing eps\n",
    "from sklearn.neighbors import NearestNeighbors\n",
    "import matplotlib.pyplot as plt\n",
    "\n",
    "tsne_reduced_output = profile_creator._dimensionality_reducer.fit_transform(\n",
    "            np.array([v for v in representation_vectors if v is not None])\n",
    "        )\n",
    "\n",
    "nbrs = NearestNeighbors(n_neighbors=4).fit(tsne_reduced_output)\n",
    "distances, indices = nbrs.kneighbors(tsne_reduced_output)\n",
    "distances = distances[:,2]\n",
    "distances = np.sort(distances, axis=0)\n",
    "plt.plot(distances)"
   ]
  },
  {
   "cell_type": "code",
   "execution_count": 571,
   "metadata": {},
   "outputs": [
    {
     "data": {
      "text/plain": [
       "22.814665967879332"
      ]
     },
     "execution_count": 571,
     "metadata": {},
     "output_type": "execute_result"
    }
   ],
   "source": [
    "np.percentile(distances, 95) + 0.2 * np.percentile(distances, 95)"
   ]
  },
  {
   "cell_type": "code",
   "execution_count": 572,
   "metadata": {},
   "outputs": [],
   "source": [
    "points = profile_creator.get_tsne_points_with_cluster(tracks=representation_vectors)"
   ]
  },
  {
   "cell_type": "code",
   "execution_count": 573,
   "metadata": {},
   "outputs": [],
   "source": [
    "df_points = [\n",
    "    [\n",
    "        track.name, \n",
    "        track.name_artists[0], \n",
    "        \",\".join(track.genres), \n",
    "        track.track_age,\n",
    "        track.popularity,\n",
    "        p[0][0], \n",
    "        p[0][1], \n",
    "        p[1]\n",
    "    ] for track, p in zip(tracks, points)\n",
    "]"
   ]
  },
  {
   "cell_type": "code",
   "execution_count": 574,
   "metadata": {},
   "outputs": [
    {
     "data": {
      "text/html": [
       "<div>\n",
       "<style scoped>\n",
       "    .dataframe tbody tr th:only-of-type {\n",
       "        vertical-align: middle;\n",
       "    }\n",
       "\n",
       "    .dataframe tbody tr th {\n",
       "        vertical-align: top;\n",
       "    }\n",
       "\n",
       "    .dataframe thead th {\n",
       "        text-align: right;\n",
       "    }\n",
       "</style>\n",
       "<table border=\"1\" class=\"dataframe\">\n",
       "  <thead>\n",
       "    <tr style=\"text-align: right;\">\n",
       "      <th></th>\n",
       "      <th>track_name</th>\n",
       "      <th>artist_name</th>\n",
       "      <th>genres</th>\n",
       "      <th>age</th>\n",
       "      <th>popularity</th>\n",
       "      <th>x</th>\n",
       "      <th>y</th>\n",
       "      <th>cluster</th>\n",
       "    </tr>\n",
       "  </thead>\n",
       "  <tbody>\n",
       "    <tr>\n",
       "      <th>0</th>\n",
       "      <td>Sweet Disposition - Bootleg</td>\n",
       "      <td>The Temper Trap</td>\n",
       "      <td>alternative dance,australian indie,indie pop,i...</td>\n",
       "      <td>6.0</td>\n",
       "      <td>52.0</td>\n",
       "      <td>52.229412</td>\n",
       "      <td>-1.264745</td>\n",
       "      <td>0</td>\n",
       "    </tr>\n",
       "    <tr>\n",
       "      <th>1</th>\n",
       "      <td>Unsteady</td>\n",
       "      <td>X Ambassadors</td>\n",
       "      <td>modern alternative rock,modern rock,pop,pop ro...</td>\n",
       "      <td>7.0</td>\n",
       "      <td>75.0</td>\n",
       "      <td>28.170343</td>\n",
       "      <td>13.976840</td>\n",
       "      <td>0</td>\n",
       "    </tr>\n",
       "    <tr>\n",
       "      <th>2</th>\n",
       "      <td>STAY (with Justin Bieber)</td>\n",
       "      <td>The Kid LAROI</td>\n",
       "      <td>australian hip hop,canadian pop,pop,post-teen pop</td>\n",
       "      <td>1.0</td>\n",
       "      <td>88.0</td>\n",
       "      <td>39.170811</td>\n",
       "      <td>7.686497</td>\n",
       "      <td>0</td>\n",
       "    </tr>\n",
       "    <tr>\n",
       "      <th>3</th>\n",
       "      <td>Where You Are</td>\n",
       "      <td>John Summit</td>\n",
       "      <td>deep groove house,deep house,edm,house,pop dance</td>\n",
       "      <td>0.0</td>\n",
       "      <td>80.0</td>\n",
       "      <td>-27.794811</td>\n",
       "      <td>-7.859976</td>\n",
       "      <td>1</td>\n",
       "    </tr>\n",
       "    <tr>\n",
       "      <th>4</th>\n",
       "      <td>I Like Me Better</td>\n",
       "      <td>Lauv</td>\n",
       "      <td>electropop,pop,post-teen pop</td>\n",
       "      <td>5.0</td>\n",
       "      <td>84.0</td>\n",
       "      <td>26.997061</td>\n",
       "      <td>38.829094</td>\n",
       "      <td>0</td>\n",
       "    </tr>\n",
       "  </tbody>\n",
       "</table>\n",
       "</div>"
      ],
      "text/plain": [
       "                    track_name      artist_name  \\\n",
       "0  Sweet Disposition - Bootleg  The Temper Trap   \n",
       "1                     Unsteady    X Ambassadors   \n",
       "2    STAY (with Justin Bieber)    The Kid LAROI   \n",
       "3                Where You Are      John Summit   \n",
       "4             I Like Me Better             Lauv   \n",
       "\n",
       "                                              genres  age  popularity  \\\n",
       "0  alternative dance,australian indie,indie pop,i...  6.0        52.0   \n",
       "1  modern alternative rock,modern rock,pop,pop ro...  7.0        75.0   \n",
       "2  australian hip hop,canadian pop,pop,post-teen pop  1.0        88.0   \n",
       "3   deep groove house,deep house,edm,house,pop dance  0.0        80.0   \n",
       "4                       electropop,pop,post-teen pop  5.0        84.0   \n",
       "\n",
       "           x          y cluster  \n",
       "0  52.229412  -1.264745       0  \n",
       "1  28.170343  13.976840       0  \n",
       "2  39.170811   7.686497       0  \n",
       "3 -27.794811  -7.859976       1  \n",
       "4  26.997061  38.829094       0  "
      ]
     },
     "execution_count": 574,
     "metadata": {},
     "output_type": "execute_result"
    }
   ],
   "source": [
    "df = pd.DataFrame(df_points, columns=['track_name', 'artist_name', 'genres' , 'age', 'popularity', 'x', 'y', 'cluster'])\n",
    "df['cluster'] = df['cluster'].astype(str)\n",
    "df['cluster'] = df['cluster'].apply(lambda x: \"Noise\" if x == '-1' else x)\n",
    "df.head()"
   ]
  },
  {
   "cell_type": "code",
   "execution_count": 575,
   "metadata": {},
   "outputs": [],
   "source": [
    "import plotly.express as px"
   ]
  },
  {
   "cell_type": "code",
   "execution_count": 576,
   "metadata": {},
   "outputs": [
    {
     "data": {
      "application/vnd.plotly.v1+json": {
       "config": {
        "plotlyServerURL": "https://plot.ly"
       },
       "data": [
        {
         "customdata": [
          [
           "The Temper Trap",
           6,
           52,
           "alternative dance,australian indie,indie pop,indie rock,modern rock,indie poptimism"
          ],
          [
           "X Ambassadors",
           7,
           75,
           "modern alternative rock,modern rock,pop,pop rock,rock,stomp pop"
          ],
          [
           "The Kid LAROI",
           1,
           88,
           "australian hip hop,canadian pop,pop,post-teen pop"
          ],
          [
           "Lauv",
           5,
           84,
           "electropop,pop,post-teen pop"
          ],
          [
           "U2",
           36,
           82,
           "irish rock,permanent wave,rock"
          ],
          [
           "U2",
           36,
           73,
           "irish rock,permanent wave,rock"
          ],
          [
           "The Killers",
           14,
           78,
           "dance rock,modern rock,permanent wave,rock"
          ],
          [
           "Avicii",
           11,
           68,
           "dance pop,edm,pop,pop dance"
          ],
          [
           "Ed Sheeran",
           0,
           89,
           "pop,uk pop"
          ],
          [
           "Ed Sheeran",
           9,
           86,
           "pop,uk pop"
          ],
          [
           "Dua Lipa",
           3,
           85,
           "dance pop,pop,uk pop"
          ],
          [
           "Lauv",
           5,
           84,
           "electropop,pop,post-teen pop"
          ],
          [
           "LANY",
           0,
           0,
           "la pop,pop,post-teen pop"
          ],
          [
           "Sam Smith",
           0,
           91,
           "dance pop,pop,post-teen pop,uk pop,alt z,art pop,dance pop,electropop,escape room,indie poptimism,pop,post-teen pop,transpop"
          ]
         ],
         "hovertemplate": "<b>%{hovertext}</b><br><br>cluster=0<br>x=%{x}<br>y=%{y}<br>artist_name=%{customdata[0]}<br>age=%{customdata[1]}<br>popularity=%{customdata[2]}<br>genres=%{customdata[3]}<extra></extra>",
         "hovertext": [
          "Sweet Disposition - Bootleg",
          "Unsteady",
          "STAY (with Justin Bieber)",
          "I Like Me Better",
          "With Or Without You",
          "Where The Streets Have No Name - Remastered",
          "Human",
          "Silhouettes - Original Radio Edit",
          "Eyes Closed",
          "Thinking out Loud",
          "Levitating",
          "I Like Me Better",
          "if this is the last time",
          "Unholy (feat. Kim Petras)"
         ],
         "legendgroup": "0",
         "marker": {
          "color": "#636efa",
          "symbol": "circle"
         },
         "mode": "markers",
         "name": "0",
         "orientation": "v",
         "showlegend": true,
         "type": "scatter",
         "x": [
          52.22941207885742,
          28.17034339904785,
          39.17081069946289,
          26.997060775756836,
          75.3827896118164,
          70.42362213134766,
          45.89313888549805,
          57.06380844116211,
          24.05060577392578,
          19.614824295043945,
          59.048336029052734,
          20.92684555053711,
          50.64696502685547,
          24.337039947509766
         ],
         "xaxis": "x",
         "y": [
          -1.2647446393966675,
          13.976840019226074,
          7.686497211456299,
          38.82909393310547,
          -12.49241828918457,
          -9.195751190185547,
          3.481773853302002,
          6.592331409454346,
          28.609670639038086,
          33.72761535644531,
          12.249234199523926,
          41.93155288696289,
          -10.288673400878906,
          19.8774356842041
         ],
         "yaxis": "y"
        },
        {
         "customdata": [
          [
           "John Summit",
           0,
           80,
           "deep groove house,deep house,edm,house,pop dance"
          ],
          [
           "Eric Prydz",
           7,
           66,
           "disco house,edm,electro house,house,pop dance,progressive house,vocal house"
          ],
          [
           "&ME",
           4,
           48,
           "deep disco house,minimal tech house,organic house,tech house"
          ],
          [
           "Adriatique",
           3,
           61,
           "deep disco house,melodic techno,organic house,swiss house,tech house"
          ],
          [
           "Bicep",
           2,
           66,
           "ambient house,electronica"
          ],
          [
           "Fred again..",
           0,
           73,
           ""
          ],
          [
           "Fred again..",
           2,
           77,
           ""
          ],
          [
           "Tale Of Us",
           2,
           45,
           "deep disco house,italian techno,melodic techno,minimal tech house,deep tech house,italian tech house"
          ],
          [
           "Swedish House Mafia",
           0,
           59,
           "dance pop,edm,electro house,pop,pop dance,progressive electro house,deep disco house,melodic techno,organic house,swiss house,tech house,canadian contemporary r&b,canadian pop,pop"
          ],
          [
           "Shouse",
           2,
           82,
           "aussietronica,big room,dance pop,edm,pop,pop dance"
          ],
          [
           "Bicep",
           5,
           61,
           "ambient house,electronica,alternative dance,electronica,folktronica,intelligent dance music,new rave"
          ]
         ],
         "hovertemplate": "<b>%{hovertext}</b><br><br>cluster=1<br>x=%{x}<br>y=%{y}<br>artist_name=%{customdata[0]}<br>age=%{customdata[1]}<br>popularity=%{customdata[2]}<br>genres=%{customdata[3]}<extra></extra>",
         "hovertext": [
          "Where You Are",
          "Opus",
          "The Rapture Pt.II",
          "Home",
          "Apricots",
          "Delilah (Pull Me Out of This)",
          "Marea (we’ve lost dancing)",
          "Vanishing",
          "Moth To A Flame (feat. The Weeknd) - Adriatique Remix",
          "Love Tonight (David Guetta Remix Edit)",
          "Opal - Four Tet Remix"
         ],
         "legendgroup": "1",
         "marker": {
          "color": "#EF553B",
          "symbol": "circle"
         },
         "mode": "markers",
         "name": "1",
         "orientation": "v",
         "showlegend": true,
         "type": "scatter",
         "x": [
          -27.794811248779297,
          -43.116310119628906,
          -62.43454360961914,
          -36.251914978027344,
          -61.236637115478516,
          -65.33873748779297,
          -40.227027893066406,
          -36.63323211669922,
          -57.26424026489258,
          -57.07002258300781,
          -42.78150939941406
         ],
         "xaxis": "x",
         "y": [
          -7.859975814819336,
          -29.922260284423828,
          -5.73708963394165,
          -3.5545690059661865,
          -24.639619827270508,
          -11.31049919128418,
          -21.931859970092773,
          -11.202507019042969,
          -20.156391143798828,
          2.1927146911621094,
          -16.028854370117188
         ],
         "yaxis": "y"
        }
       ],
       "layout": {
        "legend": {
         "title": {
          "text": "cluster"
         },
         "tracegroupgap": 0
        },
        "plot_bgcolor": "rgba(0, 0, 0, 0)",
        "showlegend": true,
        "template": {
         "data": {
          "bar": [
           {
            "error_x": {
             "color": "#2a3f5f"
            },
            "error_y": {
             "color": "#2a3f5f"
            },
            "marker": {
             "line": {
              "color": "#E5ECF6",
              "width": 0.5
             },
             "pattern": {
              "fillmode": "overlay",
              "size": 10,
              "solidity": 0.2
             }
            },
            "type": "bar"
           }
          ],
          "barpolar": [
           {
            "marker": {
             "line": {
              "color": "#E5ECF6",
              "width": 0.5
             },
             "pattern": {
              "fillmode": "overlay",
              "size": 10,
              "solidity": 0.2
             }
            },
            "type": "barpolar"
           }
          ],
          "carpet": [
           {
            "aaxis": {
             "endlinecolor": "#2a3f5f",
             "gridcolor": "white",
             "linecolor": "white",
             "minorgridcolor": "white",
             "startlinecolor": "#2a3f5f"
            },
            "baxis": {
             "endlinecolor": "#2a3f5f",
             "gridcolor": "white",
             "linecolor": "white",
             "minorgridcolor": "white",
             "startlinecolor": "#2a3f5f"
            },
            "type": "carpet"
           }
          ],
          "choropleth": [
           {
            "colorbar": {
             "outlinewidth": 0,
             "ticks": ""
            },
            "type": "choropleth"
           }
          ],
          "contour": [
           {
            "colorbar": {
             "outlinewidth": 0,
             "ticks": ""
            },
            "colorscale": [
             [
              0,
              "#0d0887"
             ],
             [
              0.1111111111111111,
              "#46039f"
             ],
             [
              0.2222222222222222,
              "#7201a8"
             ],
             [
              0.3333333333333333,
              "#9c179e"
             ],
             [
              0.4444444444444444,
              "#bd3786"
             ],
             [
              0.5555555555555556,
              "#d8576b"
             ],
             [
              0.6666666666666666,
              "#ed7953"
             ],
             [
              0.7777777777777778,
              "#fb9f3a"
             ],
             [
              0.8888888888888888,
              "#fdca26"
             ],
             [
              1,
              "#f0f921"
             ]
            ],
            "type": "contour"
           }
          ],
          "contourcarpet": [
           {
            "colorbar": {
             "outlinewidth": 0,
             "ticks": ""
            },
            "type": "contourcarpet"
           }
          ],
          "heatmap": [
           {
            "colorbar": {
             "outlinewidth": 0,
             "ticks": ""
            },
            "colorscale": [
             [
              0,
              "#0d0887"
             ],
             [
              0.1111111111111111,
              "#46039f"
             ],
             [
              0.2222222222222222,
              "#7201a8"
             ],
             [
              0.3333333333333333,
              "#9c179e"
             ],
             [
              0.4444444444444444,
              "#bd3786"
             ],
             [
              0.5555555555555556,
              "#d8576b"
             ],
             [
              0.6666666666666666,
              "#ed7953"
             ],
             [
              0.7777777777777778,
              "#fb9f3a"
             ],
             [
              0.8888888888888888,
              "#fdca26"
             ],
             [
              1,
              "#f0f921"
             ]
            ],
            "type": "heatmap"
           }
          ],
          "heatmapgl": [
           {
            "colorbar": {
             "outlinewidth": 0,
             "ticks": ""
            },
            "colorscale": [
             [
              0,
              "#0d0887"
             ],
             [
              0.1111111111111111,
              "#46039f"
             ],
             [
              0.2222222222222222,
              "#7201a8"
             ],
             [
              0.3333333333333333,
              "#9c179e"
             ],
             [
              0.4444444444444444,
              "#bd3786"
             ],
             [
              0.5555555555555556,
              "#d8576b"
             ],
             [
              0.6666666666666666,
              "#ed7953"
             ],
             [
              0.7777777777777778,
              "#fb9f3a"
             ],
             [
              0.8888888888888888,
              "#fdca26"
             ],
             [
              1,
              "#f0f921"
             ]
            ],
            "type": "heatmapgl"
           }
          ],
          "histogram": [
           {
            "marker": {
             "pattern": {
              "fillmode": "overlay",
              "size": 10,
              "solidity": 0.2
             }
            },
            "type": "histogram"
           }
          ],
          "histogram2d": [
           {
            "colorbar": {
             "outlinewidth": 0,
             "ticks": ""
            },
            "colorscale": [
             [
              0,
              "#0d0887"
             ],
             [
              0.1111111111111111,
              "#46039f"
             ],
             [
              0.2222222222222222,
              "#7201a8"
             ],
             [
              0.3333333333333333,
              "#9c179e"
             ],
             [
              0.4444444444444444,
              "#bd3786"
             ],
             [
              0.5555555555555556,
              "#d8576b"
             ],
             [
              0.6666666666666666,
              "#ed7953"
             ],
             [
              0.7777777777777778,
              "#fb9f3a"
             ],
             [
              0.8888888888888888,
              "#fdca26"
             ],
             [
              1,
              "#f0f921"
             ]
            ],
            "type": "histogram2d"
           }
          ],
          "histogram2dcontour": [
           {
            "colorbar": {
             "outlinewidth": 0,
             "ticks": ""
            },
            "colorscale": [
             [
              0,
              "#0d0887"
             ],
             [
              0.1111111111111111,
              "#46039f"
             ],
             [
              0.2222222222222222,
              "#7201a8"
             ],
             [
              0.3333333333333333,
              "#9c179e"
             ],
             [
              0.4444444444444444,
              "#bd3786"
             ],
             [
              0.5555555555555556,
              "#d8576b"
             ],
             [
              0.6666666666666666,
              "#ed7953"
             ],
             [
              0.7777777777777778,
              "#fb9f3a"
             ],
             [
              0.8888888888888888,
              "#fdca26"
             ],
             [
              1,
              "#f0f921"
             ]
            ],
            "type": "histogram2dcontour"
           }
          ],
          "mesh3d": [
           {
            "colorbar": {
             "outlinewidth": 0,
             "ticks": ""
            },
            "type": "mesh3d"
           }
          ],
          "parcoords": [
           {
            "line": {
             "colorbar": {
              "outlinewidth": 0,
              "ticks": ""
             }
            },
            "type": "parcoords"
           }
          ],
          "pie": [
           {
            "automargin": true,
            "type": "pie"
           }
          ],
          "scatter": [
           {
            "fillpattern": {
             "fillmode": "overlay",
             "size": 10,
             "solidity": 0.2
            },
            "type": "scatter"
           }
          ],
          "scatter3d": [
           {
            "line": {
             "colorbar": {
              "outlinewidth": 0,
              "ticks": ""
             }
            },
            "marker": {
             "colorbar": {
              "outlinewidth": 0,
              "ticks": ""
             }
            },
            "type": "scatter3d"
           }
          ],
          "scattercarpet": [
           {
            "marker": {
             "colorbar": {
              "outlinewidth": 0,
              "ticks": ""
             }
            },
            "type": "scattercarpet"
           }
          ],
          "scattergeo": [
           {
            "marker": {
             "colorbar": {
              "outlinewidth": 0,
              "ticks": ""
             }
            },
            "type": "scattergeo"
           }
          ],
          "scattergl": [
           {
            "marker": {
             "colorbar": {
              "outlinewidth": 0,
              "ticks": ""
             }
            },
            "type": "scattergl"
           }
          ],
          "scattermapbox": [
           {
            "marker": {
             "colorbar": {
              "outlinewidth": 0,
              "ticks": ""
             }
            },
            "type": "scattermapbox"
           }
          ],
          "scatterpolar": [
           {
            "marker": {
             "colorbar": {
              "outlinewidth": 0,
              "ticks": ""
             }
            },
            "type": "scatterpolar"
           }
          ],
          "scatterpolargl": [
           {
            "marker": {
             "colorbar": {
              "outlinewidth": 0,
              "ticks": ""
             }
            },
            "type": "scatterpolargl"
           }
          ],
          "scatterternary": [
           {
            "marker": {
             "colorbar": {
              "outlinewidth": 0,
              "ticks": ""
             }
            },
            "type": "scatterternary"
           }
          ],
          "surface": [
           {
            "colorbar": {
             "outlinewidth": 0,
             "ticks": ""
            },
            "colorscale": [
             [
              0,
              "#0d0887"
             ],
             [
              0.1111111111111111,
              "#46039f"
             ],
             [
              0.2222222222222222,
              "#7201a8"
             ],
             [
              0.3333333333333333,
              "#9c179e"
             ],
             [
              0.4444444444444444,
              "#bd3786"
             ],
             [
              0.5555555555555556,
              "#d8576b"
             ],
             [
              0.6666666666666666,
              "#ed7953"
             ],
             [
              0.7777777777777778,
              "#fb9f3a"
             ],
             [
              0.8888888888888888,
              "#fdca26"
             ],
             [
              1,
              "#f0f921"
             ]
            ],
            "type": "surface"
           }
          ],
          "table": [
           {
            "cells": {
             "fill": {
              "color": "#EBF0F8"
             },
             "line": {
              "color": "white"
             }
            },
            "header": {
             "fill": {
              "color": "#C8D4E3"
             },
             "line": {
              "color": "white"
             }
            },
            "type": "table"
           }
          ]
         },
         "layout": {
          "annotationdefaults": {
           "arrowcolor": "#2a3f5f",
           "arrowhead": 0,
           "arrowwidth": 1
          },
          "autotypenumbers": "strict",
          "coloraxis": {
           "colorbar": {
            "outlinewidth": 0,
            "ticks": ""
           }
          },
          "colorscale": {
           "diverging": [
            [
             0,
             "#8e0152"
            ],
            [
             0.1,
             "#c51b7d"
            ],
            [
             0.2,
             "#de77ae"
            ],
            [
             0.3,
             "#f1b6da"
            ],
            [
             0.4,
             "#fde0ef"
            ],
            [
             0.5,
             "#f7f7f7"
            ],
            [
             0.6,
             "#e6f5d0"
            ],
            [
             0.7,
             "#b8e186"
            ],
            [
             0.8,
             "#7fbc41"
            ],
            [
             0.9,
             "#4d9221"
            ],
            [
             1,
             "#276419"
            ]
           ],
           "sequential": [
            [
             0,
             "#0d0887"
            ],
            [
             0.1111111111111111,
             "#46039f"
            ],
            [
             0.2222222222222222,
             "#7201a8"
            ],
            [
             0.3333333333333333,
             "#9c179e"
            ],
            [
             0.4444444444444444,
             "#bd3786"
            ],
            [
             0.5555555555555556,
             "#d8576b"
            ],
            [
             0.6666666666666666,
             "#ed7953"
            ],
            [
             0.7777777777777778,
             "#fb9f3a"
            ],
            [
             0.8888888888888888,
             "#fdca26"
            ],
            [
             1,
             "#f0f921"
            ]
           ],
           "sequentialminus": [
            [
             0,
             "#0d0887"
            ],
            [
             0.1111111111111111,
             "#46039f"
            ],
            [
             0.2222222222222222,
             "#7201a8"
            ],
            [
             0.3333333333333333,
             "#9c179e"
            ],
            [
             0.4444444444444444,
             "#bd3786"
            ],
            [
             0.5555555555555556,
             "#d8576b"
            ],
            [
             0.6666666666666666,
             "#ed7953"
            ],
            [
             0.7777777777777778,
             "#fb9f3a"
            ],
            [
             0.8888888888888888,
             "#fdca26"
            ],
            [
             1,
             "#f0f921"
            ]
           ]
          },
          "colorway": [
           "#636efa",
           "#EF553B",
           "#00cc96",
           "#ab63fa",
           "#FFA15A",
           "#19d3f3",
           "#FF6692",
           "#B6E880",
           "#FF97FF",
           "#FECB52"
          ],
          "font": {
           "color": "#2a3f5f"
          },
          "geo": {
           "bgcolor": "white",
           "lakecolor": "white",
           "landcolor": "#E5ECF6",
           "showlakes": true,
           "showland": true,
           "subunitcolor": "white"
          },
          "hoverlabel": {
           "align": "left"
          },
          "hovermode": "closest",
          "mapbox": {
           "style": "light"
          },
          "paper_bgcolor": "white",
          "plot_bgcolor": "#E5ECF6",
          "polar": {
           "angularaxis": {
            "gridcolor": "white",
            "linecolor": "white",
            "ticks": ""
           },
           "bgcolor": "#E5ECF6",
           "radialaxis": {
            "gridcolor": "white",
            "linecolor": "white",
            "ticks": ""
           }
          },
          "scene": {
           "xaxis": {
            "backgroundcolor": "#E5ECF6",
            "gridcolor": "white",
            "gridwidth": 2,
            "linecolor": "white",
            "showbackground": true,
            "ticks": "",
            "zerolinecolor": "white"
           },
           "yaxis": {
            "backgroundcolor": "#E5ECF6",
            "gridcolor": "white",
            "gridwidth": 2,
            "linecolor": "white",
            "showbackground": true,
            "ticks": "",
            "zerolinecolor": "white"
           },
           "zaxis": {
            "backgroundcolor": "#E5ECF6",
            "gridcolor": "white",
            "gridwidth": 2,
            "linecolor": "white",
            "showbackground": true,
            "ticks": "",
            "zerolinecolor": "white"
           }
          },
          "shapedefaults": {
           "line": {
            "color": "#2a3f5f"
           }
          },
          "ternary": {
           "aaxis": {
            "gridcolor": "white",
            "linecolor": "white",
            "ticks": ""
           },
           "baxis": {
            "gridcolor": "white",
            "linecolor": "white",
            "ticks": ""
           },
           "bgcolor": "#E5ECF6",
           "caxis": {
            "gridcolor": "white",
            "linecolor": "white",
            "ticks": ""
           }
          },
          "title": {
           "x": 0.05
          },
          "xaxis": {
           "automargin": true,
           "gridcolor": "white",
           "linecolor": "white",
           "ticks": "",
           "title": {
            "standoff": 15
           },
           "zerolinecolor": "white",
           "zerolinewidth": 2
          },
          "yaxis": {
           "automargin": true,
           "gridcolor": "white",
           "linecolor": "white",
           "ticks": "",
           "title": {
            "standoff": 15
           },
           "zerolinecolor": "white",
           "zerolinewidth": 2
          }
         }
        },
        "title": {
         "text": "Input tracks categorized based on multiple characteristics"
        },
        "transition": {
         "duration": 200
        },
        "xaxis": {
         "anchor": "y",
         "domain": [
          0,
          1
         ],
         "title": {
          "text": "x"
         }
        },
        "yaxis": {
         "anchor": "x",
         "domain": [
          0,
          1
         ],
         "title": {
          "text": "y"
         }
        }
       }
      }
     },
     "metadata": {},
     "output_type": "display_data"
    }
   ],
   "source": [
    "fig = px.scatter(df, x=\"x\", y=\"y\",\n",
    "                    color=\"cluster\", hover_name=\"track_name\",\n",
    "                    hover_data=[\"artist_name\", \"age\", \"popularity\", \"genres\"],\n",
    "                    title=\"Input tracks categorized based on multiple characteristics\",\n",
    "                )\n",
    "        \n",
    "fig.update_layout(\n",
    "    plot_bgcolor='rgba(0, 0, 0, 0)',\n",
    "    showlegend=True\n",
    ")\n",
    "\n",
    "fig.update_layout(transition_duration=200)"
   ]
  },
  {
   "cell_type": "code",
   "execution_count": 577,
   "metadata": {},
   "outputs": [],
   "source": [
    "track_pool = TrackPoolProcessor.create_track_pool_from_list(\n",
    "    track_list=tracks\n",
    ")"
   ]
  },
  {
   "cell_type": "code",
   "execution_count": 578,
   "metadata": {},
   "outputs": [],
   "source": [
    "recommendations = recommender.recommend_k_tracks_for_track_pool(\n",
    "    track_pool=track_pool\n",
    ")"
   ]
  },
  {
   "cell_type": "code",
   "execution_count": 579,
   "metadata": {},
   "outputs": [
    {
     "name": "stdout",
     "output_type": "stream",
     "text": [
      "30\n"
     ]
    }
   ],
   "source": [
    "print(len(recommendations))"
   ]
  },
  {
   "cell_type": "code",
   "execution_count": 580,
   "metadata": {},
   "outputs": [
    {
     "data": {
      "text/plain": [
       "[(\"What's My Name?\", 'Rihanna'),\n",
       " ('Somebody Else', 'The 1975'),\n",
       " ('Diamonds', 'Sam Smith'),\n",
       " ('On Your Mind', 'Kaskade'),\n",
       " ('Now Or Never', 'Halsey'),\n",
       " ('Sixteen', 'Ellie Goulding'),\n",
       " ('Dark Days', 'Local Natives'),\n",
       " ('Flow', 'Crooked Colours'),\n",
       " ('Shipwreck', 'Klangkarussell'),\n",
       " ('The Trip', 'Still Corners'),\n",
       " ('Counting Stars', 'OneRepublic'),\n",
       " ('Symphony (feat. Zara Larsson)', 'Clean Bandit'),\n",
       " ('BOOM', 'Tiësto'),\n",
       " ('Close', 'Nick Jonas'),\n",
       " ('Children', 'Tinlicker'),\n",
       " ('The Jam', 'Kideko'),\n",
       " ('PILLOWTALK', 'ZAYN'),\n",
       " ('Crab Rave', 'Noisestorm'),\n",
       " ('Only Girl (In The World)', 'Rihanna'),\n",
       " ('Drop It', 'Tujamo'),\n",
       " ('Insomnia - Monster Mix', 'Faithless'),\n",
       " ('Look What You Made Me Do', 'Taylor Swift'),\n",
       " ('We Found Love', 'Rihanna'),\n",
       " ('UFO - Radio Edit', 'Vigiland'),\n",
       " ('Tsunami', 'DVBBS'),\n",
       " ('Tremor - Sensation 2014 Anthem; Radio Edit', 'Dimitri Vegas & Like Mike'),\n",
       " ('The Logical Song', 'MATTN'),\n",
       " ('You Belong With Me', 'Taylor Swift'),\n",
       " ('Hold Back The River', 'James Bay'),\n",
       " ('La Di Da', 'Lennon Stella')]"
      ]
     },
     "execution_count": 580,
     "metadata": {},
     "output_type": "execute_result"
    }
   ],
   "source": [
    "[\n",
    "    (\n",
    "        recom.track.name,\n",
    "        recom.track.name_artists[0]\n",
    "    ) for recom in recommendations\n",
    "\n",
    "]"
   ]
  },
  {
   "cell_type": "code",
   "execution_count": null,
   "metadata": {},
   "outputs": [],
   "source": []
  }
 ],
 "metadata": {
  "kernelspec": {
   "display_name": "MusicRecommender-7Nw-tbhx",
   "language": "python",
   "name": "python3"
  },
  "language_info": {
   "codemirror_mode": {
    "name": "ipython",
    "version": 3
   },
   "file_extension": ".py",
   "mimetype": "text/x-python",
   "name": "python",
   "nbconvert_exporter": "python",
   "pygments_lexer": "ipython3",
   "version": "3.10.10"
  },
  "orig_nbformat": 4
 },
 "nbformat": 4,
 "nbformat_minor": 2
}
