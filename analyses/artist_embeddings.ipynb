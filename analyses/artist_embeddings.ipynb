{
 "cells": [
  {
   "cell_type": "code",
   "execution_count": 1,
   "metadata": {},
   "outputs": [],
   "source": [
    "import json\n",
    "import re\n",
    "\n",
    "import pandas as pd\n",
    "import numpy as np\n",
    "\n",
    "from datetime import datetime\n",
    "from typing import Dict, List\n",
    "from tqdm import tqdm\n",
    "\n",
    "# Embedding algorithm essentials\n",
    "from sklearn.feature_extraction.text import TfidfVectorizer\n",
    "from gensim.models import Word2Vec\n",
    "from nltk.tokenize import word_tokenize\n"
   ]
  },
  {
   "cell_type": "code",
   "execution_count": 2,
   "metadata": {},
   "outputs": [
    {
     "data": {
      "text/html": [
       "<div>\n",
       "<style scoped>\n",
       "    .dataframe tbody tr th:only-of-type {\n",
       "        vertical-align: middle;\n",
       "    }\n",
       "\n",
       "    .dataframe tbody tr th {\n",
       "        vertical-align: top;\n",
       "    }\n",
       "\n",
       "    .dataframe thead th {\n",
       "        text-align: right;\n",
       "    }\n",
       "</style>\n",
       "<table border=\"1\" class=\"dataframe\">\n",
       "  <thead>\n",
       "    <tr style=\"text-align: right;\">\n",
       "      <th></th>\n",
       "      <th>id</th>\n",
       "      <th>name</th>\n",
       "      <th>popularity</th>\n",
       "      <th>duration_ms</th>\n",
       "      <th>explicit</th>\n",
       "      <th>artists</th>\n",
       "      <th>id_artists</th>\n",
       "      <th>release_date</th>\n",
       "      <th>danceability</th>\n",
       "      <th>energy</th>\n",
       "      <th>key</th>\n",
       "      <th>loudness</th>\n",
       "      <th>mode</th>\n",
       "      <th>speechiness</th>\n",
       "      <th>acousticness</th>\n",
       "      <th>instrumentalness</th>\n",
       "      <th>liveness</th>\n",
       "      <th>valence</th>\n",
       "      <th>tempo</th>\n",
       "      <th>time_signature</th>\n",
       "    </tr>\n",
       "  </thead>\n",
       "  <tbody>\n",
       "    <tr>\n",
       "      <th>0</th>\n",
       "      <td>35iwgR4jXetI318WEWsa1Q</td>\n",
       "      <td>Carve</td>\n",
       "      <td>6</td>\n",
       "      <td>126903</td>\n",
       "      <td>0</td>\n",
       "      <td>['Uli']</td>\n",
       "      <td>[45tIt06XoI0Iio4LBEVpls]</td>\n",
       "      <td>1922-02-22</td>\n",
       "      <td>0.645</td>\n",
       "      <td>0.445</td>\n",
       "      <td>0</td>\n",
       "      <td>-13.338</td>\n",
       "      <td>1</td>\n",
       "      <td>0.451</td>\n",
       "      <td>0.674</td>\n",
       "      <td>0.744</td>\n",
       "      <td>0.151</td>\n",
       "      <td>0.127</td>\n",
       "      <td>104.851</td>\n",
       "      <td>3</td>\n",
       "    </tr>\n",
       "    <tr>\n",
       "      <th>1</th>\n",
       "      <td>021ht4sdgPcrDgSk7JTbKY</td>\n",
       "      <td>Capítulo 2.16 - Banquero Anarquista</td>\n",
       "      <td>0</td>\n",
       "      <td>98200</td>\n",
       "      <td>0</td>\n",
       "      <td>['Fernando Pessoa']</td>\n",
       "      <td>[14jtPCOoNZwquk5wd9DxrY]</td>\n",
       "      <td>1922-06-01</td>\n",
       "      <td>0.695</td>\n",
       "      <td>0.263</td>\n",
       "      <td>0</td>\n",
       "      <td>-22.136</td>\n",
       "      <td>1</td>\n",
       "      <td>0.957</td>\n",
       "      <td>0.797</td>\n",
       "      <td>0.000</td>\n",
       "      <td>0.148</td>\n",
       "      <td>0.655</td>\n",
       "      <td>102.009</td>\n",
       "      <td>1</td>\n",
       "    </tr>\n",
       "  </tbody>\n",
       "</table>\n",
       "</div>"
      ],
      "text/plain": [
       "                       id                                 name  popularity  \\\n",
       "0  35iwgR4jXetI318WEWsa1Q                                Carve           6   \n",
       "1  021ht4sdgPcrDgSk7JTbKY  Capítulo 2.16 - Banquero Anarquista           0   \n",
       "\n",
       "   duration_ms  explicit              artists                id_artists  \\\n",
       "0       126903         0              ['Uli']  [45tIt06XoI0Iio4LBEVpls]   \n",
       "1        98200         0  ['Fernando Pessoa']  [14jtPCOoNZwquk5wd9DxrY]   \n",
       "\n",
       "  release_date  danceability  energy  key  loudness  mode  speechiness  \\\n",
       "0   1922-02-22         0.645   0.445    0   -13.338     1        0.451   \n",
       "1   1922-06-01         0.695   0.263    0   -22.136     1        0.957   \n",
       "\n",
       "   acousticness  instrumentalness  liveness  valence    tempo  time_signature  \n",
       "0         0.674             0.744     0.151    0.127  104.851               3  \n",
       "1         0.797             0.000     0.148    0.655  102.009               1  "
      ]
     },
     "execution_count": 2,
     "metadata": {},
     "output_type": "execute_result"
    }
   ],
   "source": [
    "df_db_tracks = pd.read_csv('../dataset/tracks.csv')\n",
    "df_db_tracks['id_artists'] = df_db_tracks['id_artists'].apply(lambda x: x[1:-1].strip().replace(\"'\", \"\").split(','))\n",
    "df_db_tracks.head(2)"
   ]
  },
  {
   "cell_type": "code",
   "execution_count": 3,
   "metadata": {},
   "outputs": [
    {
     "data": {
      "text/html": [
       "<div>\n",
       "<style scoped>\n",
       "    .dataframe tbody tr th:only-of-type {\n",
       "        vertical-align: middle;\n",
       "    }\n",
       "\n",
       "    .dataframe tbody tr th {\n",
       "        vertical-align: top;\n",
       "    }\n",
       "\n",
       "    .dataframe thead th {\n",
       "        text-align: right;\n",
       "    }\n",
       "</style>\n",
       "<table border=\"1\" class=\"dataframe\">\n",
       "  <thead>\n",
       "    <tr style=\"text-align: right;\">\n",
       "      <th></th>\n",
       "      <th>id</th>\n",
       "      <th>followers</th>\n",
       "      <th>genres</th>\n",
       "      <th>name</th>\n",
       "      <th>popularity</th>\n",
       "    </tr>\n",
       "  </thead>\n",
       "  <tbody>\n",
       "    <tr>\n",
       "      <th>1162093</th>\n",
       "      <td>5nvjpU3Y7L6Hpe54QuvDjy</td>\n",
       "      <td>2357.0</td>\n",
       "      <td>[black comedy]</td>\n",
       "      <td>Donnell Rawlings</td>\n",
       "      <td>15</td>\n",
       "    </tr>\n",
       "    <tr>\n",
       "      <th>1162094</th>\n",
       "      <td>2bP2cNhNBdKXHC6AnqgyVp</td>\n",
       "      <td>40.0</td>\n",
       "      <td>[new comedy]</td>\n",
       "      <td>Gabe Kea</td>\n",
       "      <td>8</td>\n",
       "    </tr>\n",
       "  </tbody>\n",
       "</table>\n",
       "</div>"
      ],
      "text/plain": [
       "                             id  followers          genres              name  \\\n",
       "1162093  5nvjpU3Y7L6Hpe54QuvDjy     2357.0  [black comedy]  Donnell Rawlings   \n",
       "1162094  2bP2cNhNBdKXHC6AnqgyVp       40.0    [new comedy]          Gabe Kea   \n",
       "\n",
       "         popularity  \n",
       "1162093          15  \n",
       "1162094           8  "
      ]
     },
     "execution_count": 3,
     "metadata": {},
     "output_type": "execute_result"
    }
   ],
   "source": [
    "df_db_artists = pd.read_csv('../dataset/artists.csv')\n",
    "df_db_artists['genres'] = df_db_artists['genres'].apply(lambda x: x[1:-1].strip().replace(\"'\", \"\").split(','))\n",
    "df_db_artists.tail(2)"
   ]
  },
  {
   "cell_type": "code",
   "execution_count": 4,
   "metadata": {},
   "outputs": [],
   "source": [
    "artist_information = df_db_artists.set_index('id').to_dict(orient='index')"
   ]
  },
  {
   "cell_type": "code",
   "execution_count": 5,
   "metadata": {},
   "outputs": [],
   "source": [
    "def get_genres_for_artists(id_artists: List[str]) -> List[str]:\n",
    "    genres = []\n",
    "    for artist_id in id_artists:\n",
    "        genres += artist_information[artist_id]['genres'] if artist_id in artist_information.keys() else []\n",
    "    return list(set(genres))\n",
    "\n",
    "\n",
    "def get_popularity_for_artists(id_artists: List[str]) -> List[int]:\n",
    "    popularity = []\n",
    "    for artist_id in id_artists:\n",
    "        popularity += [artist_information[artist_id]['popularity']] if artist_id in artist_information.keys() else []\n",
    "    return popularity"
   ]
  },
  {
   "cell_type": "code",
   "execution_count": 6,
   "metadata": {},
   "outputs": [
    {
     "data": {
      "text/html": [
       "<div>\n",
       "<style scoped>\n",
       "    .dataframe tbody tr th:only-of-type {\n",
       "        vertical-align: middle;\n",
       "    }\n",
       "\n",
       "    .dataframe tbody tr th {\n",
       "        vertical-align: top;\n",
       "    }\n",
       "\n",
       "    .dataframe thead th {\n",
       "        text-align: right;\n",
       "    }\n",
       "</style>\n",
       "<table border=\"1\" class=\"dataframe\">\n",
       "  <thead>\n",
       "    <tr style=\"text-align: right;\">\n",
       "      <th></th>\n",
       "      <th>id</th>\n",
       "      <th>name</th>\n",
       "      <th>popularity</th>\n",
       "      <th>duration_ms</th>\n",
       "      <th>explicit</th>\n",
       "      <th>artists</th>\n",
       "      <th>id_artists</th>\n",
       "      <th>release_date</th>\n",
       "      <th>danceability</th>\n",
       "      <th>energy</th>\n",
       "      <th>...</th>\n",
       "      <th>loudness</th>\n",
       "      <th>mode</th>\n",
       "      <th>speechiness</th>\n",
       "      <th>acousticness</th>\n",
       "      <th>instrumentalness</th>\n",
       "      <th>liveness</th>\n",
       "      <th>valence</th>\n",
       "      <th>tempo</th>\n",
       "      <th>time_signature</th>\n",
       "      <th>genres</th>\n",
       "    </tr>\n",
       "  </thead>\n",
       "  <tbody>\n",
       "    <tr>\n",
       "      <th>0</th>\n",
       "      <td>35iwgR4jXetI318WEWsa1Q</td>\n",
       "      <td>Carve</td>\n",
       "      <td>6</td>\n",
       "      <td>126903</td>\n",
       "      <td>0</td>\n",
       "      <td>['Uli']</td>\n",
       "      <td>[45tIt06XoI0Iio4LBEVpls]</td>\n",
       "      <td>1922-02-22</td>\n",
       "      <td>0.645</td>\n",
       "      <td>0.445</td>\n",
       "      <td>...</td>\n",
       "      <td>-13.338</td>\n",
       "      <td>1</td>\n",
       "      <td>0.451</td>\n",
       "      <td>0.674</td>\n",
       "      <td>0.744</td>\n",
       "      <td>0.151</td>\n",
       "      <td>0.127</td>\n",
       "      <td>104.851</td>\n",
       "      <td>3</td>\n",
       "      <td>[]</td>\n",
       "    </tr>\n",
       "  </tbody>\n",
       "</table>\n",
       "<p>1 rows × 21 columns</p>\n",
       "</div>"
      ],
      "text/plain": [
       "                       id   name  popularity  duration_ms  explicit  artists  \\\n",
       "0  35iwgR4jXetI318WEWsa1Q  Carve           6       126903         0  ['Uli']   \n",
       "\n",
       "                 id_artists release_date  danceability  energy  ...  loudness  \\\n",
       "0  [45tIt06XoI0Iio4LBEVpls]   1922-02-22         0.645   0.445  ...   -13.338   \n",
       "\n",
       "   mode  speechiness  acousticness  instrumentalness  liveness  valence  \\\n",
       "0     1        0.451         0.674             0.744     0.151    0.127   \n",
       "\n",
       "     tempo  time_signature  genres  \n",
       "0  104.851               3      []  \n",
       "\n",
       "[1 rows x 21 columns]"
      ]
     },
     "execution_count": 6,
     "metadata": {},
     "output_type": "execute_result"
    }
   ],
   "source": [
    "df_db_tracks['genres'] = df_db_tracks['id_artists'].apply(lambda x: get_genres_for_artists(x))\n",
    "df_db_tracks.head(1)"
   ]
  },
  {
   "attachments": {},
   "cell_type": "markdown",
   "metadata": {},
   "source": [
    "#### Artist Representation\n",
    "\n",
    "Create the artist social network, concatenated artist ids, for which we will create embeddings with w2v\n",
    "\n",
    "1. Collaboration relationship\n",
    "2. References relationship"
   ]
  },
  {
   "cell_type": "code",
   "execution_count": 7,
   "metadata": {},
   "outputs": [],
   "source": [
    "# collaborations\n",
    "df_db_tracks_artists = df_db_tracks[['id', 'id_artists']]\n",
    "collaborations = df_db_tracks_artists.to_dict('records')\n",
    "collaborations = [[a.strip() for a in track['id_artists']] for track in collaborations]"
   ]
  },
  {
   "cell_type": "code",
   "execution_count": 8,
   "metadata": {},
   "outputs": [],
   "source": [
    "import json\n",
    "\n",
    "with open('../dataset/artists_wiki_graph.json') as json_file:\n",
    "    references = json.load(json_file)"
   ]
  },
  {
   "cell_type": "code",
   "execution_count": 9,
   "metadata": {},
   "outputs": [
    {
     "name": "stderr",
     "output_type": "stream",
     "text": [
      "100%|██████████| 586672/586672 [00:00<00:00, 861546.38it/s]\n",
      "100%|██████████| 1906/1906 [00:05<00:00, 368.02it/s]\n"
     ]
    }
   ],
   "source": [
    "graph = {}\n",
    "\n",
    "collaboration_weight = 2\n",
    "reference_weight = 1\n",
    "\n",
    "for track_artists_id in tqdm(collaborations):\n",
    "    # O(n^2) complexity for artists\n",
    "    for artist_root in track_artists_id:\n",
    "        for artist_edge in track_artists_id:\n",
    "            if artist_root == artist_edge: continue\n",
    "            \n",
    "            if artist_root not in graph:\n",
    "                graph[artist_root] = {}\n",
    "            \n",
    "            if artist_edge not in graph[artist_root]:\n",
    "                graph[artist_root][artist_edge] = 0\n",
    "            \n",
    "            graph[artist_root][artist_edge] += collaboration_weight\n",
    "\n",
    "\n",
    "for page_references in tqdm(references):\n",
    "    # O(n^2) complexity for artists\n",
    "    for artist_root in page_references['artists']:\n",
    "        for artist_edge in page_references['artists']:\n",
    "            if artist_root == artist_edge: continue\n",
    "            \n",
    "            if artist_root not in graph:\n",
    "                graph[artist_root] = {}\n",
    "            \n",
    "            if artist_edge not in graph[artist_root]:\n",
    "                graph[artist_root][artist_edge] = 0\n",
    "            \n",
    "            graph[artist_root][artist_edge] += reference_weight"
   ]
  },
  {
   "cell_type": "code",
   "execution_count": 12,
   "metadata": {},
   "outputs": [],
   "source": [
    "from pecanpy import pecanpy\n",
    "from pecanpy.graph import AdjlstGraph\n",
    "\n",
    "# load graph object using SparseOTF mode\n",
    "g = pecanpy.SparseOTF(p=1, q=1, workers=4, verbose=True)\n",
    "\n",
    "adjl_graph = AdjlstGraph()\n",
    "for artist in graph:\n",
    "    adjl_graph.add_node(artist)\n",
    "    for artist_to in graph[artist]:\n",
    "        adjl_graph.add_node(artist_to)\n",
    "        adjl_graph.add_edge(artist, artist_to, weight=graph[artist][artist_to], directed=False)\n",
    "\n",
    "\n",
    "g = pecanpy.SparseOTF(p=1, q=1, workers=4, verbose=True)\n",
    "g = g.from_adjlst_graph(adjl_graph)"
   ]
  },
  {
   "cell_type": "code",
   "execution_count": 63,
   "metadata": {},
   "outputs": [],
   "source": [
    "# generate random walks\n",
    "walks = g.simulate_walks(num_walks=100, walk_length=20)"
   ]
  },
  {
   "cell_type": "code",
   "execution_count": 14,
   "metadata": {},
   "outputs": [
    {
     "name": "stdout",
     "output_type": "stream",
     "text": [
      "Total number of graph nodes: 73532\n",
      "Total number of graph edges: 6806070\n"
     ]
    }
   ],
   "source": [
    "print(\"Total number of graph nodes:\", g.num_nodes)\n",
    "print(\"Total number of graph edges:\", g.num_edges)"
   ]
  },
  {
   "cell_type": "code",
   "execution_count": 64,
   "metadata": {},
   "outputs": [],
   "source": [
    "# use random walks to train embeddings\n",
    "mdl = Word2Vec(walks, vector_size=8, window=2, min_count=0, sg=1, workers=4, epochs=10)"
   ]
  },
  {
   "cell_type": "code",
   "execution_count": 65,
   "metadata": {},
   "outputs": [
    {
     "name": "stdout",
     "output_type": "stream",
     "text": [
      "('7licaqhcEBQUzz9FownRaJ', 0.9916680455207825)\n",
      "('4Uc8Dsxct0oMqx0P6i60ea', 0.9894901514053345)\n",
      "('3jfVtv9mWfW0c5b3Fx440e', 0.9726917147636414)\n",
      "('2IUl3m1H1EQ7QfNbNWvgru', 0.9712132215499878)\n",
      "('1svX5cMlY22N60RxwzeJNO', 0.9691585302352905)\n",
      "('3r7zJa3GG8ayFs5fSzdwps', 0.9680845141410828)\n",
      "('0JGN9XIqm3vfg7hhPHjExI', 0.9566736817359924)\n",
      "('54dhKoAuKffdQPp7HTRAK5', 0.9566498398780823)\n",
      "('3wBQvZdexdIluWCSbQ1WYI', 0.9565303921699524)\n",
      "('2lkCfFklQDBPlQzS4tR3VP', 0.9541084170341492)\n"
     ]
    }
   ],
   "source": [
    "input_node = '5JZ7CnR6gTvEMKX4g70Amv'\n",
    "for s in mdl.wv.most_similar(input_node, topn = 10):\n",
    "    print(s)"
   ]
  },
  {
   "cell_type": "code",
   "execution_count": 66,
   "metadata": {},
   "outputs": [
    {
     "data": {
      "text/html": [
       "<div>\n",
       "<style scoped>\n",
       "    .dataframe tbody tr th:only-of-type {\n",
       "        vertical-align: middle;\n",
       "    }\n",
       "\n",
       "    .dataframe tbody tr th {\n",
       "        vertical-align: top;\n",
       "    }\n",
       "\n",
       "    .dataframe thead th {\n",
       "        text-align: right;\n",
       "    }\n",
       "</style>\n",
       "<table border=\"1\" class=\"dataframe\">\n",
       "  <thead>\n",
       "    <tr style=\"text-align: right;\">\n",
       "      <th></th>\n",
       "      <th>id</th>\n",
       "      <th>followers</th>\n",
       "      <th>genres</th>\n",
       "      <th>name</th>\n",
       "      <th>popularity</th>\n",
       "    </tr>\n",
       "  </thead>\n",
       "  <tbody>\n",
       "    <tr>\n",
       "      <th>142982</th>\n",
       "      <td>5zovXI5By2gUhdr7EByjLa</td>\n",
       "      <td>72204.0</td>\n",
       "      <td>[deep euro house,  electronica,  organic house...</td>\n",
       "      <td>Monkey Safari</td>\n",
       "      <td>56</td>\n",
       "    </tr>\n",
       "  </tbody>\n",
       "</table>\n",
       "</div>"
      ],
      "text/plain": [
       "                            id  followers  \\\n",
       "142982  5zovXI5By2gUhdr7EByjLa    72204.0   \n",
       "\n",
       "                                                   genres           name  \\\n",
       "142982  [deep euro house,  electronica,  organic house...  Monkey Safari   \n",
       "\n",
       "        popularity  \n",
       "142982          56  "
      ]
     },
     "execution_count": 66,
     "metadata": {},
     "output_type": "execute_result"
    }
   ],
   "source": [
    "df_db_artists[df_db_artists['name']=='Monkey Safari']"
   ]
  },
  {
   "cell_type": "code",
   "execution_count": 67,
   "metadata": {},
   "outputs": [],
   "source": [
    "interested_artists = {\n",
    "    \"Lauv\": \"5JZ7CnR6gTvEMKX4g70Amv\",\n",
    "    \"LANY\": \"49tQo2QULno7gxHutgccqF\",\n",
    "    \"Avicii\": \"1vCWHaC5f2uS3yhpwWbIA6\",\n",
    "    \"A R I Z O N A\": \"7hOGhpa8RMSuDOWntGIAJt\",\n",
    "    \"Don Diablo\": \"1l2ekx5skC4gJH8djERwh1\",\n",
    "    \"Steve Aoki\": \"77AiFEVeAVj2ORpC85QVJs\",\n",
    "    \"Tale Of Us\": \"1UL813H5aj3e8ekE5RqWqc\",\n",
    "    \"Green Day\": \"7oPftvlwr6VrsViSDV7fJY\",\n",
    "    \"U2\": \"51Blml2LZPmy7TTiAg47vQ\",\n",
    "    \"Metallica\": \"2ye2Wgw4gimLv2eAKyk1NB\",\n",
    "    \"Dean Martin\": \"49e4v89VmlDcFCMyDv9wQ9\",\n",
    "    \"Diplo\": \"5fMUXHkw8R8eOP2RNVYEZX\",\n",
    "    \"Faithless\": \"5T4UKHhr4HGIC0VzdZQtAE\",\n",
    "    \"Bicep\": \"73A3bLnfnz5BoQjb4gNCga\",\n",
    "    \"Four Tet\": \"7Eu1txygG6nJttLHbZdQOh\",\n",
    "    \"RHCP\": \"0L8ExT028jH3ddEcZwqJJ5\",\n",
    "    \"Flume\": \"6nxWCVXbOlEVRexSbLsTer\",\n",
    "    \"Skrillex\": \"5he5w2lnU9x7JFhnwcekXX\",\n",
    "    \"Antonis Remos\": \"6s26Q38Zqc4hY3xe7jrEBG\",\n",
    "    \"James Bay\": \"4EzkuveR9pLvDVFNx6foYD\",\n",
    "    \"Ed Sheeran\": \"6eUKZXaKkcviH0Ku9w2n3V\",\n",
    "    \"Dua Lipa\": \"6M2wZ9GZgrQXHCFfjv46we\",\n",
    "    \"Monkey Safari\": \"5zovXI5By2gUhdr7EByjLa\"\n",
    "}"
   ]
  },
  {
   "cell_type": "code",
   "execution_count": 68,
   "metadata": {},
   "outputs": [
    {
     "data": {
      "image/png": "[encoded data removed]",
      "text/plain": [
       "<Figure size 1200x500 with 1 Axes>"
      ]
     },
     "metadata": {},
     "output_type": "display_data"
    }
   ],
   "source": [
    "from sklearn.manifold import TSNE\n",
    "import matplotlib.pyplot as plt\n",
    "\n",
    "tokens = []\n",
    "labels = []\n",
    "\n",
    "for name in interested_artists:\n",
    "    labels.append(name)\n",
    "    tokens.append(mdl.wv.get_vector(interested_artists[name]))\n",
    "\n",
    "tsne_model = TSNE(perplexity=5, n_components=2, init='pca', n_iter=2000, random_state=13)\n",
    "new_values = tsne_model.fit_transform(np.array(tokens))\n",
    "\n",
    "x = []\n",
    "y = []\n",
    "for value in new_values:\n",
    "    x.append(value[0])\n",
    "    y.append(value[1])\n",
    "    \n",
    "fig, ax = plt.subplots(figsize=(12,5)) \n",
    "for i in range(len(x)):\n",
    "    ax.scatter(x[i], y[i])\n",
    "    \n",
    "for i, txt in enumerate(labels):\n",
    "    ax.annotate(txt, (x[i], y[i]))\n",
    "\n",
    "plt.show()"
   ]
  },
  {
   "cell_type": "code",
   "execution_count": 69,
   "metadata": {},
   "outputs": [],
   "source": [
    "mdl.save(\"../models/artist_embedding_v3.model\")"
   ]
  }
 ],
 "metadata": {
  "kernelspec": {
   "display_name": "MusicRecommender-6-qvcS2A",
   "language": "python",
   "name": "python3"
  },
  "language_info": {
   "codemirror_mode": {
    "name": "ipython",
    "version": 3
   },
   "file_extension": ".py",
   "mimetype": "text/x-python",
   "name": "python",
   "nbconvert_exporter": "python",
   "pygments_lexer": "ipython3",
   "version": "3.10.9"
  },
  "orig_nbformat": 4,
  "vscode": {
   "interpreter": {
    "hash": "86660e88503c01668ae7ca9ad12d33bc1f4fed8c71473711b1f06f609cd584d4"
   }
  }
 },
 "nbformat": 4,
 "nbformat_minor": 2
}
