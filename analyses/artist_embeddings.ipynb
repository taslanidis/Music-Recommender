{
 "cells": [
  {
   "cell_type": "code",
   "execution_count": 2,
   "metadata": {},
   "outputs": [],
   "source": [
    "import json\n",
    "import re\n",
    "\n",
    "import pandas as pd\n",
    "import numpy as np\n",
    "\n",
    "from datetime import datetime\n",
    "from typing import Dict, List\n",
    "from tqdm import tqdm\n",
    "\n",
    "# Embedding algorithm essentials\n",
    "from sklearn.feature_extraction.text import TfidfVectorizer\n",
    "from gensim.models import Word2Vec\n",
    "from nltk.tokenize import word_tokenize\n"
   ]
  },
  {
   "cell_type": "code",
   "execution_count": 3,
   "metadata": {},
   "outputs": [
    {
     "data": {
      "text/html": [
       "<div>\n",
       "<style scoped>\n",
       "    .dataframe tbody tr th:only-of-type {\n",
       "        vertical-align: middle;\n",
       "    }\n",
       "\n",
       "    .dataframe tbody tr th {\n",
       "        vertical-align: top;\n",
       "    }\n",
       "\n",
       "    .dataframe thead th {\n",
       "        text-align: right;\n",
       "    }\n",
       "</style>\n",
       "<table border=\"1\" class=\"dataframe\">\n",
       "  <thead>\n",
       "    <tr style=\"text-align: right;\">\n",
       "      <th></th>\n",
       "      <th>id</th>\n",
       "      <th>name</th>\n",
       "      <th>popularity</th>\n",
       "      <th>duration_ms</th>\n",
       "      <th>explicit</th>\n",
       "      <th>artists</th>\n",
       "      <th>id_artists</th>\n",
       "      <th>release_date</th>\n",
       "      <th>danceability</th>\n",
       "      <th>energy</th>\n",
       "      <th>key</th>\n",
       "      <th>loudness</th>\n",
       "      <th>mode</th>\n",
       "      <th>speechiness</th>\n",
       "      <th>acousticness</th>\n",
       "      <th>instrumentalness</th>\n",
       "      <th>liveness</th>\n",
       "      <th>valence</th>\n",
       "      <th>tempo</th>\n",
       "      <th>time_signature</th>\n",
       "    </tr>\n",
       "  </thead>\n",
       "  <tbody>\n",
       "    <tr>\n",
       "      <th>0</th>\n",
       "      <td>35iwgR4jXetI318WEWsa1Q</td>\n",
       "      <td>Carve</td>\n",
       "      <td>6</td>\n",
       "      <td>126903</td>\n",
       "      <td>0</td>\n",
       "      <td>['Uli']</td>\n",
       "      <td>[45tIt06XoI0Iio4LBEVpls]</td>\n",
       "      <td>1922-02-22</td>\n",
       "      <td>0.645</td>\n",
       "      <td>0.445</td>\n",
       "      <td>0</td>\n",
       "      <td>-13.338</td>\n",
       "      <td>1</td>\n",
       "      <td>0.451</td>\n",
       "      <td>0.674</td>\n",
       "      <td>0.744</td>\n",
       "      <td>0.151</td>\n",
       "      <td>0.127</td>\n",
       "      <td>104.851</td>\n",
       "      <td>3</td>\n",
       "    </tr>\n",
       "    <tr>\n",
       "      <th>1</th>\n",
       "      <td>021ht4sdgPcrDgSk7JTbKY</td>\n",
       "      <td>Capítulo 2.16 - Banquero Anarquista</td>\n",
       "      <td>0</td>\n",
       "      <td>98200</td>\n",
       "      <td>0</td>\n",
       "      <td>['Fernando Pessoa']</td>\n",
       "      <td>[14jtPCOoNZwquk5wd9DxrY]</td>\n",
       "      <td>1922-06-01</td>\n",
       "      <td>0.695</td>\n",
       "      <td>0.263</td>\n",
       "      <td>0</td>\n",
       "      <td>-22.136</td>\n",
       "      <td>1</td>\n",
       "      <td>0.957</td>\n",
       "      <td>0.797</td>\n",
       "      <td>0.000</td>\n",
       "      <td>0.148</td>\n",
       "      <td>0.655</td>\n",
       "      <td>102.009</td>\n",
       "      <td>1</td>\n",
       "    </tr>\n",
       "  </tbody>\n",
       "</table>\n",
       "</div>"
      ],
      "text/plain": [
       "                       id                                 name  popularity  \\\n",
       "0  35iwgR4jXetI318WEWsa1Q                                Carve           6   \n",
       "1  021ht4sdgPcrDgSk7JTbKY  Capítulo 2.16 - Banquero Anarquista           0   \n",
       "\n",
       "   duration_ms  explicit              artists                id_artists  \\\n",
       "0       126903         0              ['Uli']  [45tIt06XoI0Iio4LBEVpls]   \n",
       "1        98200         0  ['Fernando Pessoa']  [14jtPCOoNZwquk5wd9DxrY]   \n",
       "\n",
       "  release_date  danceability  energy  key  loudness  mode  speechiness  \\\n",
       "0   1922-02-22         0.645   0.445    0   -13.338     1        0.451   \n",
       "1   1922-06-01         0.695   0.263    0   -22.136     1        0.957   \n",
       "\n",
       "   acousticness  instrumentalness  liveness  valence    tempo  time_signature  \n",
       "0         0.674             0.744     0.151    0.127  104.851               3  \n",
       "1         0.797             0.000     0.148    0.655  102.009               1  "
      ]
     },
     "execution_count": 3,
     "metadata": {},
     "output_type": "execute_result"
    }
   ],
   "source": [
    "df_db_tracks = pd.read_csv('../dataset/tracks.csv')\n",
    "df_db_tracks['id_artists'] = df_db_tracks['id_artists'].apply(lambda x: x[1:-1].strip().replace(\"'\", \"\").split(','))\n",
    "df_db_tracks.head(2)"
   ]
  },
  {
   "cell_type": "code",
   "execution_count": 4,
   "metadata": {},
   "outputs": [
    {
     "data": {
      "text/html": [
       "<div>\n",
       "<style scoped>\n",
       "    .dataframe tbody tr th:only-of-type {\n",
       "        vertical-align: middle;\n",
       "    }\n",
       "\n",
       "    .dataframe tbody tr th {\n",
       "        vertical-align: top;\n",
       "    }\n",
       "\n",
       "    .dataframe thead th {\n",
       "        text-align: right;\n",
       "    }\n",
       "</style>\n",
       "<table border=\"1\" class=\"dataframe\">\n",
       "  <thead>\n",
       "    <tr style=\"text-align: right;\">\n",
       "      <th></th>\n",
       "      <th>id</th>\n",
       "      <th>followers</th>\n",
       "      <th>genres</th>\n",
       "      <th>name</th>\n",
       "      <th>popularity</th>\n",
       "    </tr>\n",
       "  </thead>\n",
       "  <tbody>\n",
       "    <tr>\n",
       "      <th>1162093</th>\n",
       "      <td>5nvjpU3Y7L6Hpe54QuvDjy</td>\n",
       "      <td>2357.0</td>\n",
       "      <td>[black comedy]</td>\n",
       "      <td>Donnell Rawlings</td>\n",
       "      <td>15</td>\n",
       "    </tr>\n",
       "    <tr>\n",
       "      <th>1162094</th>\n",
       "      <td>2bP2cNhNBdKXHC6AnqgyVp</td>\n",
       "      <td>40.0</td>\n",
       "      <td>[new comedy]</td>\n",
       "      <td>Gabe Kea</td>\n",
       "      <td>8</td>\n",
       "    </tr>\n",
       "  </tbody>\n",
       "</table>\n",
       "</div>"
      ],
      "text/plain": [
       "                             id  followers          genres              name  \\\n",
       "1162093  5nvjpU3Y7L6Hpe54QuvDjy     2357.0  [black comedy]  Donnell Rawlings   \n",
       "1162094  2bP2cNhNBdKXHC6AnqgyVp       40.0    [new comedy]          Gabe Kea   \n",
       "\n",
       "         popularity  \n",
       "1162093          15  \n",
       "1162094           8  "
      ]
     },
     "execution_count": 4,
     "metadata": {},
     "output_type": "execute_result"
    }
   ],
   "source": [
    "df_db_artists = pd.read_csv('../dataset/artists.csv')\n",
    "df_db_artists['genres'] = df_db_artists['genres'].apply(lambda x: x[1:-1].strip().replace(\"'\", \"\").split(','))\n",
    "df_db_artists.tail(2)"
   ]
  },
  {
   "cell_type": "code",
   "execution_count": 5,
   "metadata": {},
   "outputs": [],
   "source": [
    "artist_information = df_db_artists.set_index('id').to_dict(orient='index')"
   ]
  },
  {
   "cell_type": "code",
   "execution_count": 6,
   "metadata": {},
   "outputs": [],
   "source": [
    "def get_genres_for_artists(id_artists: List[str]) -> List[str]:\n",
    "    genres = []\n",
    "    for artist_id in id_artists:\n",
    "        genres += artist_information[artist_id]['genres'] if artist_id in artist_information.keys() else []\n",
    "    return list(set(genres))\n",
    "\n",
    "\n",
    "def get_popularity_for_artists(id_artists: List[str]) -> List[int]:\n",
    "    popularity = []\n",
    "    for artist_id in id_artists:\n",
    "        popularity += [artist_information[artist_id]['popularity']] if artist_id in artist_information.keys() else []\n",
    "    return popularity"
   ]
  },
  {
   "cell_type": "code",
   "execution_count": 7,
   "metadata": {},
   "outputs": [
    {
     "data": {
      "text/html": [
       "<div>\n",
       "<style scoped>\n",
       "    .dataframe tbody tr th:only-of-type {\n",
       "        vertical-align: middle;\n",
       "    }\n",
       "\n",
       "    .dataframe tbody tr th {\n",
       "        vertical-align: top;\n",
       "    }\n",
       "\n",
       "    .dataframe thead th {\n",
       "        text-align: right;\n",
       "    }\n",
       "</style>\n",
       "<table border=\"1\" class=\"dataframe\">\n",
       "  <thead>\n",
       "    <tr style=\"text-align: right;\">\n",
       "      <th></th>\n",
       "      <th>id</th>\n",
       "      <th>name</th>\n",
       "      <th>popularity</th>\n",
       "      <th>duration_ms</th>\n",
       "      <th>explicit</th>\n",
       "      <th>artists</th>\n",
       "      <th>id_artists</th>\n",
       "      <th>release_date</th>\n",
       "      <th>danceability</th>\n",
       "      <th>energy</th>\n",
       "      <th>...</th>\n",
       "      <th>loudness</th>\n",
       "      <th>mode</th>\n",
       "      <th>speechiness</th>\n",
       "      <th>acousticness</th>\n",
       "      <th>instrumentalness</th>\n",
       "      <th>liveness</th>\n",
       "      <th>valence</th>\n",
       "      <th>tempo</th>\n",
       "      <th>time_signature</th>\n",
       "      <th>genres</th>\n",
       "    </tr>\n",
       "  </thead>\n",
       "  <tbody>\n",
       "    <tr>\n",
       "      <th>0</th>\n",
       "      <td>35iwgR4jXetI318WEWsa1Q</td>\n",
       "      <td>Carve</td>\n",
       "      <td>6</td>\n",
       "      <td>126903</td>\n",
       "      <td>0</td>\n",
       "      <td>['Uli']</td>\n",
       "      <td>[45tIt06XoI0Iio4LBEVpls]</td>\n",
       "      <td>1922-02-22</td>\n",
       "      <td>0.645</td>\n",
       "      <td>0.445</td>\n",
       "      <td>...</td>\n",
       "      <td>-13.338</td>\n",
       "      <td>1</td>\n",
       "      <td>0.451</td>\n",
       "      <td>0.674</td>\n",
       "      <td>0.744</td>\n",
       "      <td>0.151</td>\n",
       "      <td>0.127</td>\n",
       "      <td>104.851</td>\n",
       "      <td>3</td>\n",
       "      <td>[]</td>\n",
       "    </tr>\n",
       "  </tbody>\n",
       "</table>\n",
       "<p>1 rows × 21 columns</p>\n",
       "</div>"
      ],
      "text/plain": [
       "                       id   name  popularity  duration_ms  explicit  artists  \\\n",
       "0  35iwgR4jXetI318WEWsa1Q  Carve           6       126903         0  ['Uli']   \n",
       "\n",
       "                 id_artists release_date  danceability  energy  ...  loudness  \\\n",
       "0  [45tIt06XoI0Iio4LBEVpls]   1922-02-22         0.645   0.445  ...   -13.338   \n",
       "\n",
       "   mode  speechiness  acousticness  instrumentalness  liveness  valence  \\\n",
       "0     1        0.451         0.674             0.744     0.151    0.127   \n",
       "\n",
       "     tempo  time_signature  genres  \n",
       "0  104.851               3      []  \n",
       "\n",
       "[1 rows x 21 columns]"
      ]
     },
     "execution_count": 7,
     "metadata": {},
     "output_type": "execute_result"
    }
   ],
   "source": [
    "df_db_tracks['genres'] = df_db_tracks['id_artists'].apply(lambda x: get_genres_for_artists(x))\n",
    "df_db_tracks.head(1)"
   ]
  },
  {
   "attachments": {},
   "cell_type": "markdown",
   "metadata": {},
   "source": [
    "#### Artist Representation\n",
    "\n",
    "Create the artist social network, concatenated artist ids, for which we will create embeddings with w2v"
   ]
  },
  {
   "cell_type": "code",
   "execution_count": 45,
   "metadata": {},
   "outputs": [
    {
     "name": "stderr",
     "output_type": "stream",
     "text": [
      "100%|██████████| 586672/586672 [00:00<00:00, 601931.15it/s]\n"
     ]
    }
   ],
   "source": [
    "# create artist graph based on track associations\n",
    "df_db_tracks_artists = df_db_tracks[['id', 'id_artists']]\n",
    "df_db_tracks_artists = df_db_tracks_artists.to_dict('records')\n",
    "\n",
    "graph = {}\n",
    "for track in tqdm(df_db_tracks_artists):\n",
    "    # O(n^2) complexity for artists\n",
    "    track_artists_id = [a.strip() for a in track['id_artists']]\n",
    "    for artist_root in track_artists_id:\n",
    "        for artist_edge in track_artists_id:\n",
    "            if artist_root == artist_edge: continue\n",
    "            \n",
    "            if artist_root not in graph:\n",
    "                graph[artist_root] = {}\n",
    "            \n",
    "            if artist_edge not in graph[artist_root]:\n",
    "                graph[artist_root][artist_edge] = 0\n",
    "            \n",
    "            graph[artist_root][artist_edge] += 1"
   ]
  },
  {
   "cell_type": "code",
   "execution_count": 46,
   "metadata": {},
   "outputs": [],
   "source": [
    "import networkx as nx\n",
    "from node2vec import Node2Vec as n2v\n",
    "\n",
    "G = nx.Graph()\n",
    "\n",
    "for artist in graph:\n",
    "  for artist_to in graph[artist]:\n",
    "    G.add_edge(artist, artist_to, weight=graph[artist][artist_to])"
   ]
  },
  {
   "cell_type": "code",
   "execution_count": 61,
   "metadata": {},
   "outputs": [
    {
     "data": {
      "application/vnd.jupyter.widget-view+json": {
       "model_id": "c5a3b7ff196b4dc9be8660ca0d384b67",
       "version_major": 2,
       "version_minor": 0
      },
      "text/plain": [
       "Computing transition probabilities:   0%|          | 0/54244 [00:00<?, ?it/s]"
      ]
     },
     "metadata": {},
     "output_type": "display_data"
    },
    {
     "name": "stderr",
     "output_type": "stream",
     "text": [
      "Generating walks (CPU: 1): 100%|██████████| 20/20 [03:32<00:00, 10.65s/it]\n"
     ]
    }
   ],
   "source": [
    "g_emb = n2v(\n",
    "  G,\n",
    "  dimensions=16,\n",
    "  walk_length=30, \n",
    "  num_walks=20\n",
    ")\n",
    "\n",
    "mdl = g_emb.fit(\n",
    "    vector_size=16,\n",
    "    window=2,\n",
    "    min_count=1\n",
    ")"
   ]
  },
  {
   "cell_type": "code",
   "execution_count": 62,
   "metadata": {},
   "outputs": [
    {
     "name": "stdout",
     "output_type": "stream",
     "text": [
      "('5baGk14NDI3ZDPbr6wJilc', 0.9921169281005859)\n",
      "('0lHsjYcb3lGjkJQQqC6HVt', 0.991969883441925)\n",
      "('7hOGhpa8RMSuDOWntGIAJt', 0.991741418838501)\n",
      "('142TY556WknD1ZRV8XilJQ', 0.9915919303894043)\n",
      "('7iLc4hrjOjQPfg1E3cCHg1', 0.9881303906440735)\n",
      "('5lKZWd6HiSCLfnDGrq9RAm', 0.9554837942123413)\n",
      "('71UZaAOfewFyTqIb0Kji9h', 0.9471638202667236)\n",
      "('5ChF3i92IPZHduM7jN3dpg', 0.9407984018325806)\n",
      "('1rw8ZTLnDHd74TWDDukjVi', 0.9373382925987244)\n",
      "('6ydoSd3N2mwgwBHtF6K7eX', 0.9322147369384766)\n"
     ]
    }
   ],
   "source": [
    "input_node = '1vCWHaC5f2uS3yhpwWbIA6'\n",
    "for s in mdl.wv.most_similar(input_node, topn = 10):\n",
    "    print(s)"
   ]
  },
  {
   "cell_type": "code",
   "execution_count": 58,
   "metadata": {},
   "outputs": [
    {
     "data": {
      "text/plain": [
       "AtlasView({'0SfsnGyD8FpIN4U4WCkBZ5': {'weight': 3}, '5YFS41yoX0YuFY39fq21oN': {'weight': 1}, '1C60viSZv6BoYtrnkZ44g5': {'weight': 1}, '1Cs0zKBU1kc0i8ypK3B9ai': {'weight': 1}, '7iLc4hrjOjQPfg1E3cCHg1': {'weight': 6}, '71UZaAOfewFyTqIb0Kji9h': {'weight': 3}, '5ChF3i92IPZHduM7jN3dpg': {'weight': 3}, '5JYo7gm2dkyLLlWHjxS7Dy': {'weight': 6}, '5CCwRZC6euC8Odo6y9X8jr': {'weight': 2}, '0id62QV2SZZfvBn9xpmuCl': {'weight': 1}, '5he5w2lnU9x7JFhnwcekXX': {'weight': 1}, '0lHsjYcb3lGjkJQQqC6HVt': {'weight': 1}, '5lKZWd6HiSCLfnDGrq9RAm': {'weight': 1}, '5gznATMVO85ZcLTkE9ULU7': {'weight': 1}, '1rw8ZTLnDHd74TWDDukjVi': {'weight': 1}, '4tZwfgrHOc3mvqYlEYSvVi': {'weight': 1}, '79DOwuMzV2h4es3em0t002': {'weight': 1}, '5baGk14NDI3ZDPbr6wJilc': {'weight': 1}, '5fahUm8t5c0GIdeTq0ZaG8': {'weight': 1}, '2fVW2ix4ANKiofDZIsy1XR': {'weight': 2}, '5ITI6SEoUZMIXXkzCfr4oE': {'weight': 1}, '6SsTlCsuCYleNza6xGwynu': {'weight': 1}, '142TY556WknD1ZRV8XilJQ': {'weight': 1}, '53XhwfbYqKCa1cC15pYq2q': {'weight': 1}, '7hOGhpa8RMSuDOWntGIAJt': {'weight': 1}, '23fqKkggKUBHNkbKtXEls4': {'weight': 1}})"
      ]
     },
     "execution_count": 58,
     "metadata": {},
     "output_type": "execute_result"
    }
   ],
   "source": [
    "G['1vCWHaC5f2uS3yhpwWbIA6']"
   ]
  },
  {
   "cell_type": "code",
   "execution_count": 71,
   "metadata": {},
   "outputs": [
    {
     "data": {
      "text/html": [
       "<div>\n",
       "<style scoped>\n",
       "    .dataframe tbody tr th:only-of-type {\n",
       "        vertical-align: middle;\n",
       "    }\n",
       "\n",
       "    .dataframe tbody tr th {\n",
       "        vertical-align: top;\n",
       "    }\n",
       "\n",
       "    .dataframe thead th {\n",
       "        text-align: right;\n",
       "    }\n",
       "</style>\n",
       "<table border=\"1\" class=\"dataframe\">\n",
       "  <thead>\n",
       "    <tr style=\"text-align: right;\">\n",
       "      <th></th>\n",
       "      <th>id</th>\n",
       "      <th>followers</th>\n",
       "      <th>genres</th>\n",
       "      <th>name</th>\n",
       "      <th>popularity</th>\n",
       "    </tr>\n",
       "  </thead>\n",
       "  <tbody>\n",
       "    <tr>\n",
       "      <th>122463</th>\n",
       "      <td>6ydoSd3N2mwgwBHtF6K7eX</td>\n",
       "      <td>3240686.0</td>\n",
       "      <td>[indie cafe pop,  pop,  viral pop]</td>\n",
       "      <td>Calum Scott</td>\n",
       "      <td>76</td>\n",
       "    </tr>\n",
       "  </tbody>\n",
       "</table>\n",
       "</div>"
      ],
      "text/plain": [
       "                            id  followers                              genres  \\\n",
       "122463  6ydoSd3N2mwgwBHtF6K7eX  3240686.0  [indie cafe pop,  pop,  viral pop]   \n",
       "\n",
       "               name  popularity  \n",
       "122463  Calum Scott          76  "
      ]
     },
     "execution_count": 71,
     "metadata": {},
     "output_type": "execute_result"
    }
   ],
   "source": [
    "df_db_artists[df_db_artists['id']=='6ydoSd3N2mwgwBHtF6K7eX']"
   ]
  }
 ],
 "metadata": {
  "kernelspec": {
   "display_name": "MusicOS-yMF2Klaq",
   "language": "python",
   "name": "python3"
  },
  "language_info": {
   "codemirror_mode": {
    "name": "ipython",
    "version": 3
   },
   "file_extension": ".py",
   "mimetype": "text/x-python",
   "name": "python",
   "nbconvert_exporter": "python",
   "pygments_lexer": "ipython3",
   "version": "3.10.9"
  },
  "orig_nbformat": 4,
  "vscode": {
   "interpreter": {
    "hash": "115aed88cb37969498c1f7c0aa13f0ab344cbf98c5c0f5c554681ac4b3220034"
   }
  }
 },
 "nbformat": 4,
 "nbformat_minor": 2
}
