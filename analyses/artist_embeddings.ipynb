{
 "cells": [
  {
   "cell_type": "code",
   "execution_count": 1,
   "metadata": {},
   "outputs": [],
   "source": [
    "import json\n",
    "import re\n",
    "\n",
    "import pandas as pd\n",
    "import numpy as np\n",
    "\n",
    "from datetime import datetime\n",
    "from typing import Dict, List\n",
    "from tqdm import tqdm\n",
    "\n",
    "# Embedding algorithm essentials\n",
    "from sklearn.feature_extraction.text import TfidfVectorizer\n",
    "from gensim.models import Word2Vec\n",
    "from nltk.tokenize import word_tokenize\n"
   ]
  },
  {
   "cell_type": "code",
   "execution_count": 2,
   "metadata": {},
   "outputs": [
    {
     "data": {
      "text/html": [
       "<div>\n",
       "<style scoped>\n",
       "    .dataframe tbody tr th:only-of-type {\n",
       "        vertical-align: middle;\n",
       "    }\n",
       "\n",
       "    .dataframe tbody tr th {\n",
       "        vertical-align: top;\n",
       "    }\n",
       "\n",
       "    .dataframe thead th {\n",
       "        text-align: right;\n",
       "    }\n",
       "</style>\n",
       "<table border=\"1\" class=\"dataframe\">\n",
       "  <thead>\n",
       "    <tr style=\"text-align: right;\">\n",
       "      <th></th>\n",
       "      <th>id</th>\n",
       "      <th>name</th>\n",
       "      <th>popularity</th>\n",
       "      <th>duration_ms</th>\n",
       "      <th>explicit</th>\n",
       "      <th>artists</th>\n",
       "      <th>id_artists</th>\n",
       "      <th>release_date</th>\n",
       "      <th>danceability</th>\n",
       "      <th>energy</th>\n",
       "      <th>key</th>\n",
       "      <th>loudness</th>\n",
       "      <th>mode</th>\n",
       "      <th>speechiness</th>\n",
       "      <th>acousticness</th>\n",
       "      <th>instrumentalness</th>\n",
       "      <th>liveness</th>\n",
       "      <th>valence</th>\n",
       "      <th>tempo</th>\n",
       "      <th>time_signature</th>\n",
       "    </tr>\n",
       "  </thead>\n",
       "  <tbody>\n",
       "    <tr>\n",
       "      <th>0</th>\n",
       "      <td>35iwgR4jXetI318WEWsa1Q</td>\n",
       "      <td>Carve</td>\n",
       "      <td>6</td>\n",
       "      <td>126903</td>\n",
       "      <td>0</td>\n",
       "      <td>['Uli']</td>\n",
       "      <td>[45tIt06XoI0Iio4LBEVpls]</td>\n",
       "      <td>1922-02-22</td>\n",
       "      <td>0.645</td>\n",
       "      <td>0.445</td>\n",
       "      <td>0</td>\n",
       "      <td>-13.338</td>\n",
       "      <td>1</td>\n",
       "      <td>0.451</td>\n",
       "      <td>0.674</td>\n",
       "      <td>0.744</td>\n",
       "      <td>0.151</td>\n",
       "      <td>0.127</td>\n",
       "      <td>104.851</td>\n",
       "      <td>3</td>\n",
       "    </tr>\n",
       "    <tr>\n",
       "      <th>1</th>\n",
       "      <td>021ht4sdgPcrDgSk7JTbKY</td>\n",
       "      <td>Capítulo 2.16 - Banquero Anarquista</td>\n",
       "      <td>0</td>\n",
       "      <td>98200</td>\n",
       "      <td>0</td>\n",
       "      <td>['Fernando Pessoa']</td>\n",
       "      <td>[14jtPCOoNZwquk5wd9DxrY]</td>\n",
       "      <td>1922-06-01</td>\n",
       "      <td>0.695</td>\n",
       "      <td>0.263</td>\n",
       "      <td>0</td>\n",
       "      <td>-22.136</td>\n",
       "      <td>1</td>\n",
       "      <td>0.957</td>\n",
       "      <td>0.797</td>\n",
       "      <td>0.000</td>\n",
       "      <td>0.148</td>\n",
       "      <td>0.655</td>\n",
       "      <td>102.009</td>\n",
       "      <td>1</td>\n",
       "    </tr>\n",
       "  </tbody>\n",
       "</table>\n",
       "</div>"
      ],
      "text/plain": [
       "                       id                                 name  popularity  \\\n",
       "0  35iwgR4jXetI318WEWsa1Q                                Carve           6   \n",
       "1  021ht4sdgPcrDgSk7JTbKY  Capítulo 2.16 - Banquero Anarquista           0   \n",
       "\n",
       "   duration_ms  explicit              artists                id_artists  \\\n",
       "0       126903         0              ['Uli']  [45tIt06XoI0Iio4LBEVpls]   \n",
       "1        98200         0  ['Fernando Pessoa']  [14jtPCOoNZwquk5wd9DxrY]   \n",
       "\n",
       "  release_date  danceability  energy  key  loudness  mode  speechiness  \\\n",
       "0   1922-02-22         0.645   0.445    0   -13.338     1        0.451   \n",
       "1   1922-06-01         0.695   0.263    0   -22.136     1        0.957   \n",
       "\n",
       "   acousticness  instrumentalness  liveness  valence    tempo  time_signature  \n",
       "0         0.674             0.744     0.151    0.127  104.851               3  \n",
       "1         0.797             0.000     0.148    0.655  102.009               1  "
      ]
     },
     "execution_count": 2,
     "metadata": {},
     "output_type": "execute_result"
    }
   ],
   "source": [
    "df_db_tracks = pd.read_csv('../dataset/tracks.csv')\n",
    "df_db_tracks['id_artists'] = df_db_tracks['id_artists'].apply(lambda x: x[1:-1].strip().replace(\"'\", \"\").split(','))\n",
    "df_db_tracks.head(2)"
   ]
  },
  {
   "cell_type": "code",
   "execution_count": 3,
   "metadata": {},
   "outputs": [],
   "source": [
    "def convert_string_to_list(x: str) -> List:\n",
    "    l = list(x[1:-1].strip().split(','))\n",
    "    if \"\" in l: l.remove(\"\")\n",
    "    return [\n",
    "        item.strip(\"'\") for item in l\n",
    "    ]"
   ]
  },
  {
   "cell_type": "code",
   "execution_count": 4,
   "metadata": {},
   "outputs": [
    {
     "data": {
      "text/html": [
       "<div>\n",
       "<style scoped>\n",
       "    .dataframe tbody tr th:only-of-type {\n",
       "        vertical-align: middle;\n",
       "    }\n",
       "\n",
       "    .dataframe tbody tr th {\n",
       "        vertical-align: top;\n",
       "    }\n",
       "\n",
       "    .dataframe thead th {\n",
       "        text-align: right;\n",
       "    }\n",
       "</style>\n",
       "<table border=\"1\" class=\"dataframe\">\n",
       "  <thead>\n",
       "    <tr style=\"text-align: right;\">\n",
       "      <th></th>\n",
       "      <th>id</th>\n",
       "      <th>followers</th>\n",
       "      <th>genres</th>\n",
       "      <th>name</th>\n",
       "      <th>popularity</th>\n",
       "    </tr>\n",
       "  </thead>\n",
       "  <tbody>\n",
       "    <tr>\n",
       "      <th>1162093</th>\n",
       "      <td>5nvjpU3Y7L6Hpe54QuvDjy</td>\n",
       "      <td>2357.0</td>\n",
       "      <td>[black comedy]</td>\n",
       "      <td>Donnell Rawlings</td>\n",
       "      <td>15</td>\n",
       "    </tr>\n",
       "    <tr>\n",
       "      <th>1162094</th>\n",
       "      <td>2bP2cNhNBdKXHC6AnqgyVp</td>\n",
       "      <td>40.0</td>\n",
       "      <td>[new comedy]</td>\n",
       "      <td>Gabe Kea</td>\n",
       "      <td>8</td>\n",
       "    </tr>\n",
       "  </tbody>\n",
       "</table>\n",
       "</div>"
      ],
      "text/plain": [
       "                             id  followers          genres              name  \\\n",
       "1162093  5nvjpU3Y7L6Hpe54QuvDjy     2357.0  [black comedy]  Donnell Rawlings   \n",
       "1162094  2bP2cNhNBdKXHC6AnqgyVp       40.0    [new comedy]          Gabe Kea   \n",
       "\n",
       "         popularity  \n",
       "1162093          15  \n",
       "1162094           8  "
      ]
     },
     "execution_count": 4,
     "metadata": {},
     "output_type": "execute_result"
    }
   ],
   "source": [
    "df_db_artists = pd.read_csv('../dataset/artists.csv')\n",
    "df_db_artists['genres'] = df_db_artists['genres'].apply(lambda x: convert_string_to_list(x))\n",
    "df_db_artists.tail(2)"
   ]
  },
  {
   "cell_type": "code",
   "execution_count": 5,
   "metadata": {},
   "outputs": [],
   "source": [
    "artist_information = df_db_artists.set_index('id').to_dict(orient='index')"
   ]
  },
  {
   "cell_type": "code",
   "execution_count": 6,
   "metadata": {},
   "outputs": [],
   "source": [
    "def get_genres_for_artists(id_artists: List[str]) -> List[str]:\n",
    "    genres = []\n",
    "    for artist_id in id_artists:\n",
    "        genres += artist_information[artist_id]['genres'] if artist_id in artist_information.keys() else []\n",
    "    genres = list(set(genres))\n",
    "    if '' in genres: genres.remove('')\n",
    "    return genres\n",
    "\n",
    "\n",
    "def get_popularity_for_artists(id_artists: List[str]) -> List[int]:\n",
    "    popularity = []\n",
    "    for artist_id in id_artists:\n",
    "        popularity += [artist_information[artist_id]['popularity']] if artist_id in artist_information.keys() else []\n",
    "    return popularity"
   ]
  },
  {
   "cell_type": "code",
   "execution_count": 7,
   "metadata": {},
   "outputs": [
    {
     "data": {
      "text/html": [
       "<div>\n",
       "<style scoped>\n",
       "    .dataframe tbody tr th:only-of-type {\n",
       "        vertical-align: middle;\n",
       "    }\n",
       "\n",
       "    .dataframe tbody tr th {\n",
       "        vertical-align: top;\n",
       "    }\n",
       "\n",
       "    .dataframe thead th {\n",
       "        text-align: right;\n",
       "    }\n",
       "</style>\n",
       "<table border=\"1\" class=\"dataframe\">\n",
       "  <thead>\n",
       "    <tr style=\"text-align: right;\">\n",
       "      <th></th>\n",
       "      <th>id</th>\n",
       "      <th>name</th>\n",
       "      <th>popularity</th>\n",
       "      <th>duration_ms</th>\n",
       "      <th>explicit</th>\n",
       "      <th>artists</th>\n",
       "      <th>id_artists</th>\n",
       "      <th>release_date</th>\n",
       "      <th>danceability</th>\n",
       "      <th>energy</th>\n",
       "      <th>...</th>\n",
       "      <th>loudness</th>\n",
       "      <th>mode</th>\n",
       "      <th>speechiness</th>\n",
       "      <th>acousticness</th>\n",
       "      <th>instrumentalness</th>\n",
       "      <th>liveness</th>\n",
       "      <th>valence</th>\n",
       "      <th>tempo</th>\n",
       "      <th>time_signature</th>\n",
       "      <th>genres</th>\n",
       "    </tr>\n",
       "  </thead>\n",
       "  <tbody>\n",
       "    <tr>\n",
       "      <th>0</th>\n",
       "      <td>35iwgR4jXetI318WEWsa1Q</td>\n",
       "      <td>Carve</td>\n",
       "      <td>6</td>\n",
       "      <td>126903</td>\n",
       "      <td>0</td>\n",
       "      <td>['Uli']</td>\n",
       "      <td>[45tIt06XoI0Iio4LBEVpls]</td>\n",
       "      <td>1922-02-22</td>\n",
       "      <td>0.645</td>\n",
       "      <td>0.445</td>\n",
       "      <td>...</td>\n",
       "      <td>-13.338</td>\n",
       "      <td>1</td>\n",
       "      <td>0.451</td>\n",
       "      <td>0.674</td>\n",
       "      <td>0.744</td>\n",
       "      <td>0.151</td>\n",
       "      <td>0.127</td>\n",
       "      <td>104.851</td>\n",
       "      <td>3</td>\n",
       "      <td>[]</td>\n",
       "    </tr>\n",
       "  </tbody>\n",
       "</table>\n",
       "<p>1 rows × 21 columns</p>\n",
       "</div>"
      ],
      "text/plain": [
       "                       id   name  popularity  duration_ms  explicit  artists  \\\n",
       "0  35iwgR4jXetI318WEWsa1Q  Carve           6       126903         0  ['Uli']   \n",
       "\n",
       "                 id_artists release_date  danceability  energy  ...  loudness  \\\n",
       "0  [45tIt06XoI0Iio4LBEVpls]   1922-02-22         0.645   0.445  ...   -13.338   \n",
       "\n",
       "   mode  speechiness  acousticness  instrumentalness  liveness  valence  \\\n",
       "0     1        0.451         0.674             0.744     0.151    0.127   \n",
       "\n",
       "     tempo  time_signature  genres  \n",
       "0  104.851               3      []  \n",
       "\n",
       "[1 rows x 21 columns]"
      ]
     },
     "execution_count": 7,
     "metadata": {},
     "output_type": "execute_result"
    }
   ],
   "source": [
    "df_db_tracks['genres'] = df_db_tracks['id_artists'].apply(lambda x: get_genres_for_artists(x))\n",
    "df_db_tracks.head(1)"
   ]
  },
  {
   "attachments": {},
   "cell_type": "markdown",
   "metadata": {},
   "source": [
    "#### Artist Representation\n",
    "\n",
    "Create the artist social network, concatenated artist ids, for which we will create embeddings with w2v\n",
    "\n",
    "1. Collaboration relationship\n",
    "2. References relationship\n",
    "3. Concert relationship\n",
    "4. Co-existence in playlists relationship"
   ]
  },
  {
   "cell_type": "code",
   "execution_count": 8,
   "metadata": {},
   "outputs": [],
   "source": [
    "# collaborations\n",
    "df_db_tracks_artists = df_db_tracks[['id', 'id_artists']]\n",
    "collaborations = df_db_tracks_artists.to_dict('records')\n",
    "collaborations = [[a.strip() for a in track['id_artists']] for track in collaborations]"
   ]
  },
  {
   "cell_type": "code",
   "execution_count": 9,
   "metadata": {},
   "outputs": [],
   "source": [
    "import json\n",
    "\n",
    "with open('../dataset/artists_wiki_graph.json') as json_file:\n",
    "    references = json.load(json_file)\n",
    "\n",
    "\n",
    "with open('../dataset/concerts_artists_graph.json') as json_file:\n",
    "    concerts = json.load(json_file)"
   ]
  },
  {
   "cell_type": "code",
   "execution_count": 10,
   "metadata": {},
   "outputs": [
    {
     "name": "stderr",
     "output_type": "stream",
     "text": [
      "100%|██████████| 586672/586672 [00:00<00:00, 2069254.35it/s]\n",
      "100%|██████████| 1906/1906 [00:02<00:00, 950.06it/s] \n",
      "100%|██████████| 2272/2272 [00:00<00:00, 5225.91it/s]\n"
     ]
    }
   ],
   "source": [
    "graph = {}\n",
    "\n",
    "concert_weight = 2\n",
    "collaboration_weight = 4\n",
    "reference_weight = 1\n",
    "playlist_coexistence = 3\n",
    "\n",
    "for track_artists_id in tqdm(collaborations):\n",
    "    # O(n^2) complexity for artists\n",
    "    for artist_root in track_artists_id:\n",
    "        for artist_edge in track_artists_id:\n",
    "            if artist_root == artist_edge: continue\n",
    "            \n",
    "            if artist_root not in graph:\n",
    "                graph[artist_root] = {}\n",
    "            \n",
    "            if artist_edge not in graph[artist_root]:\n",
    "                graph[artist_root][artist_edge] = 0\n",
    "            \n",
    "            graph[artist_root][artist_edge] += collaboration_weight\n",
    "\n",
    "\n",
    "for page_references in tqdm(references):\n",
    "    # O(n^2) complexity for artists\n",
    "    for artist_root in page_references['artists']:\n",
    "        for artist_edge in page_references['artists']:\n",
    "            if artist_root == artist_edge: continue\n",
    "            \n",
    "            if artist_root not in graph:\n",
    "                graph[artist_root] = {}\n",
    "            \n",
    "            if artist_edge not in graph[artist_root]:\n",
    "                graph[artist_root][artist_edge] = 0\n",
    "            \n",
    "            graph[artist_root][artist_edge] += reference_weight\n",
    "\n",
    "\n",
    "\n",
    "for page_references in tqdm(concerts):\n",
    "    # O(n^2) complexity for artists\n",
    "    for artist_root in page_references['artists']:\n",
    "        for artist_edge in page_references['artists']:\n",
    "            if artist_root == artist_edge: continue\n",
    "            \n",
    "            if artist_root not in graph:\n",
    "                graph[artist_root] = {}\n",
    "            \n",
    "            if artist_edge not in graph[artist_root]:\n",
    "                graph[artist_root][artist_edge] = 0\n",
    "            \n",
    "            graph[artist_root][artist_edge] += concert_weight"
   ]
  },
  {
   "cell_type": "code",
   "execution_count": 11,
   "metadata": {},
   "outputs": [],
   "source": [
    "from pecanpy import pecanpy\n",
    "from pecanpy.graph import AdjlstGraph\n",
    "\n",
    "# load graph object using SparseOTF mode\n",
    "g = pecanpy.SparseOTF(p=1, q=1, workers=4, verbose=True)\n",
    "\n",
    "adjl_graph = AdjlstGraph()\n",
    "for artist in graph:\n",
    "    adjl_graph.add_node(artist)\n",
    "    for artist_to in graph[artist]:\n",
    "        adjl_graph.add_node(artist_to)\n",
    "        adjl_graph.add_edge(artist, artist_to, weight=graph[artist][artist_to], directed=False)\n",
    "\n",
    "\n",
    "g = pecanpy.SparseOTF(p=1, q=1, workers=4, verbose=True)\n",
    "g = g.from_adjlst_graph(adjl_graph)"
   ]
  },
  {
   "cell_type": "code",
   "execution_count": 12,
   "metadata": {},
   "outputs": [],
   "source": [
    "# generate random walks\n",
    "walks = g.simulate_walks(num_walks=100, walk_length=20)"
   ]
  },
  {
   "cell_type": "code",
   "execution_count": 13,
   "metadata": {},
   "outputs": [
    {
     "name": "stdout",
     "output_type": "stream",
     "text": [
      "Total number of graph nodes: 79694\n",
      "Total number of graph edges: 7754928\n"
     ]
    }
   ],
   "source": [
    "print(\"Total number of graph nodes:\", g.num_nodes)\n",
    "print(\"Total number of graph edges:\", g.num_edges)"
   ]
  },
  {
   "cell_type": "code",
   "execution_count": 14,
   "metadata": {},
   "outputs": [],
   "source": [
    "# use random walks to train embeddings\n",
    "mdl = Word2Vec(walks, vector_size=16, window=2, min_count=0, sg=1, workers=4, epochs=10)"
   ]
  },
  {
   "cell_type": "code",
   "execution_count": 15,
   "metadata": {},
   "outputs": [
    {
     "name": "stdout",
     "output_type": "stream",
     "text": [
      "('4Uc8Dsxct0oMqx0P6i60ea', 0.9872268438339233)\n",
      "('7licaqhcEBQUzz9FownRaJ', 0.9844285845756531)\n",
      "('2IUl3m1H1EQ7QfNbNWvgru', 0.9513905048370361)\n",
      "('5fXvsVPCEbk4dgbXLlyVSo', 0.9064382314682007)\n",
      "('2FI1lYrFKsH7yndA4vrIJo', 0.8964850306510925)\n",
      "('3jERgGiTwNAPxNmDasAb31', 0.8945077657699585)\n",
      "('5UR2p0CfAj66pt9vtOroLw', 0.894264817237854)\n",
      "('2f8XUOmMEEoZdOSNtvx0mG', 0.887485921382904)\n",
      "('6dse9FDodKw65ZQoLjE5F1', 0.8871573805809021)\n",
      "('2wL2wTES5m7VMe3yZFy0sh', 0.8836048245429993)\n"
     ]
    }
   ],
   "source": [
    "input_node = '5JZ7CnR6gTvEMKX4g70Amv'\n",
    "for s in mdl.wv.most_similar(input_node, topn = 10):\n",
    "    print(s)"
   ]
  },
  {
   "cell_type": "code",
   "execution_count": 16,
   "metadata": {},
   "outputs": [],
   "source": [
    "df_db_artists['num_genres_tagged'] = df_db_artists['genres'].apply(lambda x: len(x))"
   ]
  },
  {
   "cell_type": "code",
   "execution_count": 17,
   "metadata": {},
   "outputs": [
    {
     "data": {
      "text/html": [
       "<div>\n",
       "<style scoped>\n",
       "    .dataframe tbody tr th:only-of-type {\n",
       "        vertical-align: middle;\n",
       "    }\n",
       "\n",
       "    .dataframe tbody tr th {\n",
       "        vertical-align: top;\n",
       "    }\n",
       "\n",
       "    .dataframe thead th {\n",
       "        text-align: right;\n",
       "    }\n",
       "</style>\n",
       "<table border=\"1\" class=\"dataframe\">\n",
       "  <thead>\n",
       "    <tr style=\"text-align: right;\">\n",
       "      <th></th>\n",
       "      <th>id</th>\n",
       "      <th>followers</th>\n",
       "      <th>genres</th>\n",
       "      <th>name</th>\n",
       "      <th>popularity</th>\n",
       "      <th>num_genres_tagged</th>\n",
       "    </tr>\n",
       "  </thead>\n",
       "  <tbody>\n",
       "    <tr>\n",
       "      <th>144487</th>\n",
       "      <td>6M2wZ9GZgrQXHCFfjv46we</td>\n",
       "      <td>24123468.0</td>\n",
       "      <td>[dance pop,  'pop,  'uk pop]</td>\n",
       "      <td>Dua Lipa</td>\n",
       "      <td>95</td>\n",
       "      <td>3</td>\n",
       "    </tr>\n",
       "  </tbody>\n",
       "</table>\n",
       "</div>"
      ],
      "text/plain": [
       "                            id   followers                        genres  \\\n",
       "144487  6M2wZ9GZgrQXHCFfjv46we  24123468.0  [dance pop,  'pop,  'uk pop]   \n",
       "\n",
       "            name  popularity  num_genres_tagged  \n",
       "144487  Dua Lipa          95                  3  "
      ]
     },
     "execution_count": 17,
     "metadata": {},
     "output_type": "execute_result"
    }
   ],
   "source": [
    "df_db_artists[df_db_artists['name']=='Dua Lipa']"
   ]
  },
  {
   "cell_type": "code",
   "execution_count": 18,
   "metadata": {},
   "outputs": [
    {
     "data": {
      "text/plain": [
       "<Axes: xlabel='num_genres_tagged'>"
      ]
     },
     "execution_count": 18,
     "metadata": {},
     "output_type": "execute_result"
    },
    {
     "data": {
      "image/png": "[encoded data removed]",
      "text/plain": [
       "<Figure size 640x480 with 1 Axes>"
      ]
     },
     "metadata": {},
     "output_type": "display_data"
    }
   ],
   "source": [
    "df_db_artists['num_genres_tagged'].value_counts().plot(kind='bar')"
   ]
  },
  {
   "cell_type": "code",
   "execution_count": 19,
   "metadata": {},
   "outputs": [],
   "source": [
    "interested_artists = {\n",
    "    \"Lauv\": \"5JZ7CnR6gTvEMKX4g70Amv\",\n",
    "    \"LANY\": \"49tQo2QULno7gxHutgccqF\",\n",
    "    \"Avicii\": \"1vCWHaC5f2uS3yhpwWbIA6\",\n",
    "    \"A R I Z O N A\": \"7hOGhpa8RMSuDOWntGIAJt\",\n",
    "    \"Don Diablo\": \"1l2ekx5skC4gJH8djERwh1\",\n",
    "    \"Steve Aoki\": \"77AiFEVeAVj2ORpC85QVJs\",\n",
    "    \"Tale Of Us\": \"1UL813H5aj3e8ekE5RqWqc\",\n",
    "    \"Green Day\": \"7oPftvlwr6VrsViSDV7fJY\",\n",
    "    \"U2\": \"51Blml2LZPmy7TTiAg47vQ\",\n",
    "    \"Metallica\": \"2ye2Wgw4gimLv2eAKyk1NB\",\n",
    "    \"Dean Martin\": \"49e4v89VmlDcFCMyDv9wQ9\",\n",
    "    \"Diplo\": \"5fMUXHkw8R8eOP2RNVYEZX\",\n",
    "    \"Faithless\": \"5T4UKHhr4HGIC0VzdZQtAE\",\n",
    "    \"Bicep\": \"73A3bLnfnz5BoQjb4gNCga\",\n",
    "    \"Four Tet\": \"7Eu1txygG6nJttLHbZdQOh\",\n",
    "    \"RHCP\": \"0L8ExT028jH3ddEcZwqJJ5\",\n",
    "    \"Flume\": \"6nxWCVXbOlEVRexSbLsTer\",\n",
    "    \"Skrillex\": \"5he5w2lnU9x7JFhnwcekXX\",\n",
    "    \"James Bay\": \"4EzkuveR9pLvDVFNx6foYD\",\n",
    "    \"Ed Sheeran\": \"6eUKZXaKkcviH0Ku9w2n3V\",\n",
    "    \"Dua Lipa\": \"6M2wZ9GZgrQXHCFfjv46we\",\n",
    "    \"Monkey Safari\": \"5zovXI5By2gUhdr7EByjLa\",\n",
    "    \"Britney Spears\": \"26dSoYclwsYLMAKD3tpOr4\",\n",
    "    \"Bruno Mars\": \"0du5cEVh5yTK9QJze8zA0C\",\n",
    "    \"Martin Garrix\": \"60d24wfXkVzDSfLS6hyCjZ\",\n",
    "    \"CamelPhat\": \"240wlM8vDrf6S4zCyzGj2W\",\n",
    "    \"Drake\": \"3TVXtAsR1Inumwj472S9r4\",\n",
    "    \"Khalid\": \"6LuN9FCkKOj5PcnpouEgny\",\n",
    "    \"Pop Smoke\": \"0eDvMgVFoNV3TpwtrVCoTj\",\n",
    "    \"DVBBS\": \"5X4LWwbUFNzPkEas04uU82\",\n",
    "    \"Timmy Trumpet\": \"0CbeG1224FS58EUx4tPevZ\",\n",
    "    \"Dimitri Vegas & Like Mike\": \"73jBynjsVtofjRpdpRAJGk\"\n",
    "}"
   ]
  },
  {
   "cell_type": "code",
   "execution_count": 20,
   "metadata": {},
   "outputs": [
    {
     "data": {
      "image/png": "[encoded data removed]",
      "text/plain": [
       "<Figure size 1200x500 with 1 Axes>"
      ]
     },
     "metadata": {},
     "output_type": "display_data"
    }
   ],
   "source": [
    "from sklearn.manifold import TSNE\n",
    "import matplotlib.pyplot as plt\n",
    "\n",
    "tokens = []\n",
    "labels = []\n",
    "\n",
    "for name in interested_artists:\n",
    "    labels.append(name)\n",
    "    tokens.append(mdl.wv.get_vector(interested_artists[name]))\n",
    "\n",
    "tsne_model = TSNE(perplexity=5, n_components=2, init='pca', n_iter=2000, random_state=13, metric='cosine')\n",
    "new_values = tsne_model.fit_transform(np.array(tokens))\n",
    "\n",
    "x = []\n",
    "y = []\n",
    "for value in new_values:\n",
    "    x.append(value[0])\n",
    "    y.append(value[1])\n",
    "    \n",
    "fig, ax = plt.subplots(figsize=(12,5)) \n",
    "for i in range(len(x)):\n",
    "    ax.scatter(x[i], y[i])\n",
    "    \n",
    "for i, txt in enumerate(labels):\n",
    "    ax.annotate(txt, (x[i], y[i]))\n",
    "\n",
    "plt.show()"
   ]
  },
  {
   "attachments": {},
   "cell_type": "markdown",
   "metadata": {},
   "source": [
    "## Imputing missing values\n",
    "\n",
    "Some artists are not in this graph since we didn't find any relationship => we have to impute the missing values"
   ]
  },
  {
   "attachments": {},
   "cell_type": "markdown",
   "metadata": {},
   "source": [
    "### 1. Load Genre Embeddings"
   ]
  },
  {
   "cell_type": "code",
   "execution_count": 21,
   "metadata": {},
   "outputs": [],
   "source": [
    "genre_embeddings = np.load('../models/genre_embeddings_bert_v1.npy', allow_pickle=True)"
   ]
  },
  {
   "attachments": {},
   "cell_type": "markdown",
   "metadata": {},
   "source": [
    "### 2. Find All Missing Artists"
   ]
  },
  {
   "cell_type": "code",
   "execution_count": 22,
   "metadata": {},
   "outputs": [],
   "source": [
    "missing_artists = []\n",
    "\n",
    "for artist_id in artist_information:\n",
    "    if artist_id not in mdl.wv:\n",
    "        missing_artists.append(artist_id)"
   ]
  },
  {
   "attachments": {},
   "cell_type": "markdown",
   "metadata": {},
   "source": [
    "### 3. Create an \"Genre Based Artist Embeddings\"\n",
    "\n",
    "--> average all embeddings for each genre tag for each artist"
   ]
  },
  {
   "cell_type": "code",
   "execution_count": 23,
   "metadata": {},
   "outputs": [],
   "source": [
    "artist_genre_based_embeddings = {}\n",
    "missing_artists_set = set(missing_artists)\n",
    "\n",
    "for artist_id, artist in artist_information.items():\n",
    "\n",
    "    embeddings = []\n",
    "    \n",
    "    for genre in artist['genres']:\n",
    "        genre_embedding = genre_embeddings.item().get(genre)\n",
    "        if genre_embedding is not None:\n",
    "            embeddings.append(genre_embedding)\n",
    "    \n",
    "    if len(embeddings) > 1:\n",
    "        artist_genre_based_embeddings[artist_id] = np.average(embeddings, axis=0)\n",
    "    elif len(embeddings) == 1:\n",
    "        artist_genre_based_embeddings[artist_id] = embeddings[0]"
   ]
  },
  {
   "cell_type": "code",
   "execution_count": 24,
   "metadata": {},
   "outputs": [
    {
     "data": {
      "text/plain": [
       "274819"
      ]
     },
     "execution_count": 24,
     "metadata": {},
     "output_type": "execute_result"
    }
   ],
   "source": [
    "len(artist_genre_based_embeddings)"
   ]
  },
  {
   "attachments": {},
   "cell_type": "markdown",
   "metadata": {},
   "source": [
    "### 4. Do NN on the new Artist embeddings\n",
    "\n",
    "Find for each artist missing an embedding the K nearest artists based on genres\n",
    "\n",
    "Then assign the artist missing an embedding the average artist embeddings of the K nearest artists"
   ]
  },
  {
   "cell_type": "code",
   "execution_count": 25,
   "metadata": {},
   "outputs": [],
   "source": [
    "potential_hits = {artist_id: val for artist_id, val in artist_genre_based_embeddings.items() if artist_id not in missing_artists_set}\n",
    "potential_hits_artist_ids = list(potential_hits.keys())\n",
    "potential_hits_artist_genre_embeddings = list(potential_hits.values())"
   ]
  },
  {
   "cell_type": "code",
   "execution_count": 26,
   "metadata": {},
   "outputs": [
    {
     "data": {
      "text/html": [
       "<style>#sk-container-id-1 {color: black;background-color: white;}#sk-container-id-1 pre{padding: 0;}#sk-container-id-1 div.sk-toggleable {background-color: white;}#sk-container-id-1 label.sk-toggleable__label {cursor: pointer;display: block;width: 100%;margin-bottom: 0;padding: 0.3em;box-sizing: border-box;text-align: center;}#sk-container-id-1 label.sk-toggleable__label-arrow:before {content: \"▸\";float: left;margin-right: 0.25em;color: #696969;}#sk-container-id-1 label.sk-toggleable__label-arrow:hover:before {color: black;}#sk-container-id-1 div.sk-estimator:hover label.sk-toggleable__label-arrow:before {color: black;}#sk-container-id-1 div.sk-toggleable__content {max-height: 0;max-width: 0;overflow: hidden;text-align: left;background-color: #f0f8ff;}#sk-container-id-1 div.sk-toggleable__content pre {margin: 0.2em;color: black;border-radius: 0.25em;background-color: #f0f8ff;}#sk-container-id-1 input.sk-toggleable__control:checked~div.sk-toggleable__content {max-height: 200px;max-width: 100%;overflow: auto;}#sk-container-id-1 input.sk-toggleable__control:checked~label.sk-toggleable__label-arrow:before {content: \"▾\";}#sk-container-id-1 div.sk-estimator input.sk-toggleable__control:checked~label.sk-toggleable__label {background-color: #d4ebff;}#sk-container-id-1 div.sk-label input.sk-toggleable__control:checked~label.sk-toggleable__label {background-color: #d4ebff;}#sk-container-id-1 input.sk-hidden--visually {border: 0;clip: rect(1px 1px 1px 1px);clip: rect(1px, 1px, 1px, 1px);height: 1px;margin: -1px;overflow: hidden;padding: 0;position: absolute;width: 1px;}#sk-container-id-1 div.sk-estimator {font-family: monospace;background-color: #f0f8ff;border: 1px dotted black;border-radius: 0.25em;box-sizing: border-box;margin-bottom: 0.5em;}#sk-container-id-1 div.sk-estimator:hover {background-color: #d4ebff;}#sk-container-id-1 div.sk-parallel-item::after {content: \"\";width: 100%;border-bottom: 1px solid gray;flex-grow: 1;}#sk-container-id-1 div.sk-label:hover label.sk-toggleable__label {background-color: #d4ebff;}#sk-container-id-1 div.sk-serial::before {content: \"\";position: absolute;border-left: 1px solid gray;box-sizing: border-box;top: 0;bottom: 0;left: 50%;z-index: 0;}#sk-container-id-1 div.sk-serial {display: flex;flex-direction: column;align-items: center;background-color: white;padding-right: 0.2em;padding-left: 0.2em;position: relative;}#sk-container-id-1 div.sk-item {position: relative;z-index: 1;}#sk-container-id-1 div.sk-parallel {display: flex;align-items: stretch;justify-content: center;background-color: white;position: relative;}#sk-container-id-1 div.sk-item::before, #sk-container-id-1 div.sk-parallel-item::before {content: \"\";position: absolute;border-left: 1px solid gray;box-sizing: border-box;top: 0;bottom: 0;left: 50%;z-index: -1;}#sk-container-id-1 div.sk-parallel-item {display: flex;flex-direction: column;z-index: 1;position: relative;background-color: white;}#sk-container-id-1 div.sk-parallel-item:first-child::after {align-self: flex-end;width: 50%;}#sk-container-id-1 div.sk-parallel-item:last-child::after {align-self: flex-start;width: 50%;}#sk-container-id-1 div.sk-parallel-item:only-child::after {width: 0;}#sk-container-id-1 div.sk-dashed-wrapped {border: 1px dashed gray;margin: 0 0.4em 0.5em 0.4em;box-sizing: border-box;padding-bottom: 0.4em;background-color: white;}#sk-container-id-1 div.sk-label label {font-family: monospace;font-weight: bold;display: inline-block;line-height: 1.2em;}#sk-container-id-1 div.sk-label-container {text-align: center;}#sk-container-id-1 div.sk-container {/* jupyter's `normalize.less` sets `[hidden] { display: none; }` but bootstrap.min.css set `[hidden] { display: none !important; }` so we also need the `!important` here to be able to override the default hidden behavior on the sphinx rendered scikit-learn.org. See: https://github.com/scikit-learn/scikit-learn/issues/21755 */display: inline-block !important;position: relative;}#sk-container-id-1 div.sk-text-repr-fallback {display: none;}</style><div id=\"sk-container-id-1\" class=\"sk-top-container\"><div class=\"sk-text-repr-fallback\"><pre>NearestNeighbors(metric=&#x27;cosine&#x27;, n_neighbors=4)</pre><b>In a Jupyter environment, please rerun this cell to show the HTML representation or trust the notebook. <br />On GitHub, the HTML representation is unable to render, please try loading this page with nbviewer.org.</b></div><div class=\"sk-container\" hidden><div class=\"sk-item\"><div class=\"sk-estimator sk-toggleable\"><input class=\"sk-toggleable__control sk-hidden--visually\" id=\"sk-estimator-id-1\" type=\"checkbox\" checked><label for=\"sk-estimator-id-1\" class=\"sk-toggleable__label sk-toggleable__label-arrow\">NearestNeighbors</label><div class=\"sk-toggleable__content\"><pre>NearestNeighbors(metric=&#x27;cosine&#x27;, n_neighbors=4)</pre></div></div></div></div></div>"
      ],
      "text/plain": [
       "NearestNeighbors(metric='cosine', n_neighbors=4)"
      ]
     },
     "execution_count": 26,
     "metadata": {},
     "output_type": "execute_result"
    }
   ],
   "source": [
    "from sklearn.neighbors import NearestNeighbors\n",
    "\n",
    "nn = NearestNeighbors(n_neighbors=4, metric=\"cosine\")\n",
    "nn.fit(potential_hits_artist_genre_embeddings)"
   ]
  },
  {
   "cell_type": "code",
   "execution_count": 27,
   "metadata": {},
   "outputs": [],
   "source": [
    "imputations = {}\n",
    "\n",
    "for artist_id in missing_artists:\n",
    "    \n",
    "    if artist_id not in artist_genre_based_embeddings:\n",
    "        continue\n",
    "\n",
    "    neighbors = nn.kneighbors([artist_genre_based_embeddings[artist_id]])\n",
    "    \n",
    "    neighbors_embeddings = []\n",
    "    for neighbor_index in neighbors[1][0]:\n",
    "        hit_artist_id = potential_hits_artist_ids[neighbor_index]\n",
    "        neighbors_embeddings.append(mdl.wv.get_vector(hit_artist_id))\n",
    "        \n",
    "    artist_imputed_embedding = np.average(neighbors_embeddings, axis=0)\n",
    "    imputations[artist_id] = artist_imputed_embedding"
   ]
  },
  {
   "cell_type": "code",
   "execution_count": 28,
   "metadata": {},
   "outputs": [
    {
     "data": {
      "text/plain": [
       "232210"
      ]
     },
     "execution_count": 28,
     "metadata": {},
     "output_type": "execute_result"
    }
   ],
   "source": [
    "len(imputations)"
   ]
  },
  {
   "cell_type": "code",
   "execution_count": 29,
   "metadata": {},
   "outputs": [],
   "source": [
    "mdl.wv.add_vectors(list(imputations.keys()), list(imputations.values()))"
   ]
  },
  {
   "cell_type": "code",
   "execution_count": 34,
   "metadata": {},
   "outputs": [],
   "source": [
    "mdl.wv.fill_norms(force=True)"
   ]
  },
  {
   "attachments": {},
   "cell_type": "markdown",
   "metadata": {},
   "source": [
    "### 5. Store the new model"
   ]
  },
  {
   "cell_type": "code",
   "execution_count": 35,
   "metadata": {},
   "outputs": [],
   "source": [
    "mdl.wv.save(\"../models/artist_embedding_imp.kv\")"
   ]
  },
  {
   "attachments": {},
   "cell_type": "markdown",
   "metadata": {},
   "source": [
    "### Preview"
   ]
  },
  {
   "cell_type": "code",
   "execution_count": 31,
   "metadata": {},
   "outputs": [
    {
     "data": {
      "text/html": [
       "<div>\n",
       "<style scoped>\n",
       "    .dataframe tbody tr th:only-of-type {\n",
       "        vertical-align: middle;\n",
       "    }\n",
       "\n",
       "    .dataframe tbody tr th {\n",
       "        vertical-align: top;\n",
       "    }\n",
       "\n",
       "    .dataframe thead th {\n",
       "        text-align: right;\n",
       "    }\n",
       "</style>\n",
       "<table border=\"1\" class=\"dataframe\">\n",
       "  <thead>\n",
       "    <tr style=\"text-align: right;\">\n",
       "      <th></th>\n",
       "      <th>id</th>\n",
       "      <th>followers</th>\n",
       "      <th>genres</th>\n",
       "      <th>name</th>\n",
       "      <th>popularity</th>\n",
       "      <th>num_genres_tagged</th>\n",
       "    </tr>\n",
       "  </thead>\n",
       "  <tbody>\n",
       "    <tr>\n",
       "      <th>144914</th>\n",
       "      <td>24DO0PijjITGIEWsO8XaPs</td>\n",
       "      <td>252378.0</td>\n",
       "      <td>[deep house,  'deep tropical house,  'electra,...</td>\n",
       "      <td>Nora En Pure</td>\n",
       "      <td>67</td>\n",
       "      <td>8</td>\n",
       "    </tr>\n",
       "  </tbody>\n",
       "</table>\n",
       "</div>"
      ],
      "text/plain": [
       "                            id  followers  \\\n",
       "144914  24DO0PijjITGIEWsO8XaPs   252378.0   \n",
       "\n",
       "                                                   genres          name  \\\n",
       "144914  [deep house,  'deep tropical house,  'electra,...  Nora En Pure   \n",
       "\n",
       "        popularity  num_genres_tagged  \n",
       "144914          67                  8  "
      ]
     },
     "execution_count": 31,
     "metadata": {},
     "output_type": "execute_result"
    }
   ],
   "source": [
    "df_db_artists[df_db_artists['name']==\"Nora En Pure\"]"
   ]
  },
  {
   "cell_type": "code",
   "execution_count": 32,
   "metadata": {},
   "outputs": [],
   "source": [
    "interested_artists = {\n",
    "    \"Lauv\": \"5JZ7CnR6gTvEMKX4g70Amv\",\n",
    "    \"LANY\": \"49tQo2QULno7gxHutgccqF\",\n",
    "    \"Avicii\": \"1vCWHaC5f2uS3yhpwWbIA6\",\n",
    "    \"A R I Z O N A\": \"7hOGhpa8RMSuDOWntGIAJt\",\n",
    "    \"Don Diablo\": \"1l2ekx5skC4gJH8djERwh1\",\n",
    "    \"Steve Aoki\": \"77AiFEVeAVj2ORpC85QVJs\",\n",
    "    \"Tale Of Us\": \"1UL813H5aj3e8ekE5RqWqc\",\n",
    "    \"Green Day\": \"7oPftvlwr6VrsViSDV7fJY\",\n",
    "    \"U2\": \"51Blml2LZPmy7TTiAg47vQ\",\n",
    "    \"Metallica\": \"2ye2Wgw4gimLv2eAKyk1NB\",\n",
    "    \"Dean Martin\": \"49e4v89VmlDcFCMyDv9wQ9\",\n",
    "    \"Diplo\": \"5fMUXHkw8R8eOP2RNVYEZX\",\n",
    "    \"Faithless\": \"5T4UKHhr4HGIC0VzdZQtAE\",\n",
    "    \"Bicep\": \"73A3bLnfnz5BoQjb4gNCga\",\n",
    "    \"Four Tet\": \"7Eu1txygG6nJttLHbZdQOh\",\n",
    "    \"RHCP\": \"0L8ExT028jH3ddEcZwqJJ5\",\n",
    "    \"Flume\": \"6nxWCVXbOlEVRexSbLsTer\",\n",
    "    \"Skrillex\": \"5he5w2lnU9x7JFhnwcekXX\",\n",
    "    \"James Bay\": \"4EzkuveR9pLvDVFNx6foYD\",\n",
    "    \"Ed Sheeran\": \"6eUKZXaKkcviH0Ku9w2n3V\",\n",
    "    \"Dua Lipa\": \"6M2wZ9GZgrQXHCFfjv46we\",\n",
    "    \"Monkey Safari\": \"5zovXI5By2gUhdr7EByjLa\",\n",
    "    \"Britney Spears\": \"26dSoYclwsYLMAKD3tpOr4\",\n",
    "    \"Bruno Mars\": \"0du5cEVh5yTK9QJze8zA0C\",\n",
    "    \"Martin Garrix\": \"60d24wfXkVzDSfLS6hyCjZ\",\n",
    "    \"CamelPhat\": \"240wlM8vDrf6S4zCyzGj2W\",\n",
    "    \"Drake\": \"3TVXtAsR1Inumwj472S9r4\",\n",
    "    \"Khalid\": \"6LuN9FCkKOj5PcnpouEgny\",\n",
    "    \"Pop Smoke\": \"0eDvMgVFoNV3TpwtrVCoTj\",\n",
    "    \"DVBBS\": \"5X4LWwbUFNzPkEas04uU82\",\n",
    "    \"Timmy Trumpet\": \"0CbeG1224FS58EUx4tPevZ\",\n",
    "    \"Dimitri Vegas & Like Mike\": \"73jBynjsVtofjRpdpRAJGk\",\n",
    "    \"Black Coffee\": \"6wMr4zKPrrR0UVz08WtUWc\",\n",
    "    \"Feder\": \"5KnoVkIUGmK0PiDKMjz2LM\",\n",
    "    \"Elderbrook\": \"2vf4pRsEY6LpL5tKmqWb64\",\n",
    "    \"ODESZA\": \"21mKp7DqtSNHhCAU2ugvUw\",\n",
    "    \"Nora En Pure\": \"24DO0PijjITGIEWsO8XaPs\"\n",
    "}"
   ]
  },
  {
   "cell_type": "code",
   "execution_count": 33,
   "metadata": {},
   "outputs": [
    {
     "data": {
      "image/png": "[encoded data removed]",
      "text/plain": [
       "<Figure size 1200x500 with 1 Axes>"
      ]
     },
     "metadata": {},
     "output_type": "display_data"
    }
   ],
   "source": [
    "from sklearn.manifold import TSNE\n",
    "import matplotlib.pyplot as plt\n",
    "\n",
    "tokens = []\n",
    "labels = []\n",
    "\n",
    "for name in interested_artists:\n",
    "    labels.append(name)\n",
    "    tokens.append(mdl.wv.get_vector(interested_artists[name]))\n",
    "\n",
    "tsne_model = TSNE(perplexity=5, n_components=2, init='pca', n_iter=2000, random_state=13, metric='cosine')\n",
    "new_values = tsne_model.fit_transform(np.array(tokens))\n",
    "\n",
    "x = []\n",
    "y = []\n",
    "for value in new_values:\n",
    "    x.append(value[0])\n",
    "    y.append(value[1])\n",
    "    \n",
    "fig, ax = plt.subplots(figsize=(12,5)) \n",
    "for i in range(len(x)):\n",
    "    ax.scatter(x[i], y[i])\n",
    "    \n",
    "for i, txt in enumerate(labels):\n",
    "    ax.annotate(txt, (x[i], y[i]))\n",
    "\n",
    "plt.show()"
   ]
  }
 ],
 "metadata": {
  "kernelspec": {
   "display_name": "MusicRecommender-6-qvcS2A",
   "language": "python",
   "name": "python3"
  },
  "language_info": {
   "codemirror_mode": {
    "name": "ipython",
    "version": 3
   },
   "file_extension": ".py",
   "mimetype": "text/x-python",
   "name": "python",
   "nbconvert_exporter": "python",
   "pygments_lexer": "ipython3",
   "version": "3.10.10"
  },
  "orig_nbformat": 4,
  "vscode": {
   "interpreter": {
    "hash": "86660e88503c01668ae7ca9ad12d33bc1f4fed8c71473711b1f06f609cd584d4"
   }
  }
 },
 "nbformat": 4,
 "nbformat_minor": 2
}
