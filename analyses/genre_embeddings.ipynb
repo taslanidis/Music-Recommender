{
 "cells": [
  {
   "cell_type": "code",
   "execution_count": 38,
   "metadata": {},
   "outputs": [],
   "source": [
    "import pandas as pd\n",
    "import numpy as np\n",
    "from typing import Dict, List\n",
    "from tqdm.notebook import tqdm\n",
    "\n",
    "# Embedding algorithm essentials\n",
    "from gensim.models import Word2Vec"
   ]
  },
  {
   "cell_type": "code",
   "execution_count": 39,
   "metadata": {},
   "outputs": [
    {
     "data": {
      "text/html": [
       "<div>\n",
       "<style scoped>\n",
       "    .dataframe tbody tr th:only-of-type {\n",
       "        vertical-align: middle;\n",
       "    }\n",
       "\n",
       "    .dataframe tbody tr th {\n",
       "        vertical-align: top;\n",
       "    }\n",
       "\n",
       "    .dataframe thead th {\n",
       "        text-align: right;\n",
       "    }\n",
       "</style>\n",
       "<table border=\"1\" class=\"dataframe\">\n",
       "  <thead>\n",
       "    <tr style=\"text-align: right;\">\n",
       "      <th></th>\n",
       "      <th>id</th>\n",
       "      <th>name</th>\n",
       "      <th>popularity</th>\n",
       "      <th>duration_ms</th>\n",
       "      <th>explicit</th>\n",
       "      <th>artists</th>\n",
       "      <th>id_artists</th>\n",
       "      <th>release_date</th>\n",
       "      <th>danceability</th>\n",
       "      <th>energy</th>\n",
       "      <th>key</th>\n",
       "      <th>loudness</th>\n",
       "      <th>mode</th>\n",
       "      <th>speechiness</th>\n",
       "      <th>acousticness</th>\n",
       "      <th>instrumentalness</th>\n",
       "      <th>liveness</th>\n",
       "      <th>valence</th>\n",
       "      <th>tempo</th>\n",
       "      <th>time_signature</th>\n",
       "    </tr>\n",
       "  </thead>\n",
       "  <tbody>\n",
       "    <tr>\n",
       "      <th>0</th>\n",
       "      <td>35iwgR4jXetI318WEWsa1Q</td>\n",
       "      <td>Carve</td>\n",
       "      <td>6</td>\n",
       "      <td>126903</td>\n",
       "      <td>0</td>\n",
       "      <td>['Uli']</td>\n",
       "      <td>[45tIt06XoI0Iio4LBEVpls]</td>\n",
       "      <td>1922-02-22</td>\n",
       "      <td>0.645</td>\n",
       "      <td>0.445</td>\n",
       "      <td>0</td>\n",
       "      <td>-13.338</td>\n",
       "      <td>1</td>\n",
       "      <td>0.451</td>\n",
       "      <td>0.674</td>\n",
       "      <td>0.744</td>\n",
       "      <td>0.151</td>\n",
       "      <td>0.127</td>\n",
       "      <td>104.851</td>\n",
       "      <td>3</td>\n",
       "    </tr>\n",
       "    <tr>\n",
       "      <th>1</th>\n",
       "      <td>021ht4sdgPcrDgSk7JTbKY</td>\n",
       "      <td>Capítulo 2.16 - Banquero Anarquista</td>\n",
       "      <td>0</td>\n",
       "      <td>98200</td>\n",
       "      <td>0</td>\n",
       "      <td>['Fernando Pessoa']</td>\n",
       "      <td>[14jtPCOoNZwquk5wd9DxrY]</td>\n",
       "      <td>1922-06-01</td>\n",
       "      <td>0.695</td>\n",
       "      <td>0.263</td>\n",
       "      <td>0</td>\n",
       "      <td>-22.136</td>\n",
       "      <td>1</td>\n",
       "      <td>0.957</td>\n",
       "      <td>0.797</td>\n",
       "      <td>0.000</td>\n",
       "      <td>0.148</td>\n",
       "      <td>0.655</td>\n",
       "      <td>102.009</td>\n",
       "      <td>1</td>\n",
       "    </tr>\n",
       "  </tbody>\n",
       "</table>\n",
       "</div>"
      ],
      "text/plain": [
       "                       id                                 name  popularity  \\\n",
       "0  35iwgR4jXetI318WEWsa1Q                                Carve           6   \n",
       "1  021ht4sdgPcrDgSk7JTbKY  Capítulo 2.16 - Banquero Anarquista           0   \n",
       "\n",
       "   duration_ms  explicit              artists                id_artists  \\\n",
       "0       126903         0              ['Uli']  [45tIt06XoI0Iio4LBEVpls]   \n",
       "1        98200         0  ['Fernando Pessoa']  [14jtPCOoNZwquk5wd9DxrY]   \n",
       "\n",
       "  release_date  danceability  energy  key  loudness  mode  speechiness  \\\n",
       "0   1922-02-22         0.645   0.445    0   -13.338     1        0.451   \n",
       "1   1922-06-01         0.695   0.263    0   -22.136     1        0.957   \n",
       "\n",
       "   acousticness  instrumentalness  liveness  valence    tempo  time_signature  \n",
       "0         0.674             0.744     0.151    0.127  104.851               3  \n",
       "1         0.797             0.000     0.148    0.655  102.009               1  "
      ]
     },
     "execution_count": 39,
     "metadata": {},
     "output_type": "execute_result"
    }
   ],
   "source": [
    "df_db_tracks = pd.read_csv('../dataset/tracks.csv')\n",
    "df_db_tracks['id_artists'] = df_db_tracks['id_artists'].apply(lambda x: x[1:-1].strip().replace(\"'\", \"\").split(','))\n",
    "df_db_tracks.head(2)"
   ]
  },
  {
   "cell_type": "code",
   "execution_count": 40,
   "metadata": {},
   "outputs": [
    {
     "data": {
      "text/html": [
       "<div>\n",
       "<style scoped>\n",
       "    .dataframe tbody tr th:only-of-type {\n",
       "        vertical-align: middle;\n",
       "    }\n",
       "\n",
       "    .dataframe tbody tr th {\n",
       "        vertical-align: top;\n",
       "    }\n",
       "\n",
       "    .dataframe thead th {\n",
       "        text-align: right;\n",
       "    }\n",
       "</style>\n",
       "<table border=\"1\" class=\"dataframe\">\n",
       "  <thead>\n",
       "    <tr style=\"text-align: right;\">\n",
       "      <th></th>\n",
       "      <th>popularity</th>\n",
       "      <th>duration_ms</th>\n",
       "      <th>explicit</th>\n",
       "      <th>danceability</th>\n",
       "      <th>energy</th>\n",
       "      <th>key</th>\n",
       "      <th>loudness</th>\n",
       "      <th>mode</th>\n",
       "      <th>speechiness</th>\n",
       "      <th>acousticness</th>\n",
       "      <th>instrumentalness</th>\n",
       "      <th>liveness</th>\n",
       "      <th>valence</th>\n",
       "      <th>tempo</th>\n",
       "      <th>time_signature</th>\n",
       "    </tr>\n",
       "  </thead>\n",
       "  <tbody>\n",
       "    <tr>\n",
       "      <th>count</th>\n",
       "      <td>586672.000000</td>\n",
       "      <td>5.866720e+05</td>\n",
       "      <td>586672.000000</td>\n",
       "      <td>586672.000000</td>\n",
       "      <td>586672.000000</td>\n",
       "      <td>586672.000000</td>\n",
       "      <td>586672.000000</td>\n",
       "      <td>586672.000000</td>\n",
       "      <td>586672.000000</td>\n",
       "      <td>586672.000000</td>\n",
       "      <td>586672.000000</td>\n",
       "      <td>586672.000000</td>\n",
       "      <td>586672.000000</td>\n",
       "      <td>586672.000000</td>\n",
       "      <td>586672.000000</td>\n",
       "    </tr>\n",
       "    <tr>\n",
       "      <th>mean</th>\n",
       "      <td>27.570053</td>\n",
       "      <td>2.300512e+05</td>\n",
       "      <td>0.044086</td>\n",
       "      <td>0.563594</td>\n",
       "      <td>0.542036</td>\n",
       "      <td>5.221603</td>\n",
       "      <td>-10.206067</td>\n",
       "      <td>0.658797</td>\n",
       "      <td>0.104864</td>\n",
       "      <td>0.449863</td>\n",
       "      <td>0.113451</td>\n",
       "      <td>0.213935</td>\n",
       "      <td>0.552292</td>\n",
       "      <td>118.464857</td>\n",
       "      <td>3.873382</td>\n",
       "    </tr>\n",
       "    <tr>\n",
       "      <th>std</th>\n",
       "      <td>18.370642</td>\n",
       "      <td>1.265261e+05</td>\n",
       "      <td>0.205286</td>\n",
       "      <td>0.166103</td>\n",
       "      <td>0.251923</td>\n",
       "      <td>3.519423</td>\n",
       "      <td>5.089328</td>\n",
       "      <td>0.474114</td>\n",
       "      <td>0.179893</td>\n",
       "      <td>0.348837</td>\n",
       "      <td>0.266868</td>\n",
       "      <td>0.184326</td>\n",
       "      <td>0.257671</td>\n",
       "      <td>29.764108</td>\n",
       "      <td>0.473162</td>\n",
       "    </tr>\n",
       "    <tr>\n",
       "      <th>min</th>\n",
       "      <td>0.000000</td>\n",
       "      <td>3.344000e+03</td>\n",
       "      <td>0.000000</td>\n",
       "      <td>0.000000</td>\n",
       "      <td>0.000000</td>\n",
       "      <td>0.000000</td>\n",
       "      <td>-60.000000</td>\n",
       "      <td>0.000000</td>\n",
       "      <td>0.000000</td>\n",
       "      <td>0.000000</td>\n",
       "      <td>0.000000</td>\n",
       "      <td>0.000000</td>\n",
       "      <td>0.000000</td>\n",
       "      <td>0.000000</td>\n",
       "      <td>0.000000</td>\n",
       "    </tr>\n",
       "    <tr>\n",
       "      <th>25%</th>\n",
       "      <td>13.000000</td>\n",
       "      <td>1.750930e+05</td>\n",
       "      <td>0.000000</td>\n",
       "      <td>0.453000</td>\n",
       "      <td>0.343000</td>\n",
       "      <td>2.000000</td>\n",
       "      <td>-12.891000</td>\n",
       "      <td>0.000000</td>\n",
       "      <td>0.034000</td>\n",
       "      <td>0.096900</td>\n",
       "      <td>0.000000</td>\n",
       "      <td>0.098300</td>\n",
       "      <td>0.346000</td>\n",
       "      <td>95.600000</td>\n",
       "      <td>4.000000</td>\n",
       "    </tr>\n",
       "    <tr>\n",
       "      <th>50%</th>\n",
       "      <td>27.000000</td>\n",
       "      <td>2.148930e+05</td>\n",
       "      <td>0.000000</td>\n",
       "      <td>0.577000</td>\n",
       "      <td>0.549000</td>\n",
       "      <td>5.000000</td>\n",
       "      <td>-9.243000</td>\n",
       "      <td>1.000000</td>\n",
       "      <td>0.044300</td>\n",
       "      <td>0.422000</td>\n",
       "      <td>0.000024</td>\n",
       "      <td>0.139000</td>\n",
       "      <td>0.564000</td>\n",
       "      <td>117.384000</td>\n",
       "      <td>4.000000</td>\n",
       "    </tr>\n",
       "    <tr>\n",
       "      <th>75%</th>\n",
       "      <td>41.000000</td>\n",
       "      <td>2.638670e+05</td>\n",
       "      <td>0.000000</td>\n",
       "      <td>0.686000</td>\n",
       "      <td>0.748000</td>\n",
       "      <td>8.000000</td>\n",
       "      <td>-6.482000</td>\n",
       "      <td>1.000000</td>\n",
       "      <td>0.076300</td>\n",
       "      <td>0.785000</td>\n",
       "      <td>0.009550</td>\n",
       "      <td>0.278000</td>\n",
       "      <td>0.769000</td>\n",
       "      <td>136.321000</td>\n",
       "      <td>4.000000</td>\n",
       "    </tr>\n",
       "    <tr>\n",
       "      <th>max</th>\n",
       "      <td>100.000000</td>\n",
       "      <td>5.621218e+06</td>\n",
       "      <td>1.000000</td>\n",
       "      <td>0.991000</td>\n",
       "      <td>1.000000</td>\n",
       "      <td>11.000000</td>\n",
       "      <td>5.376000</td>\n",
       "      <td>1.000000</td>\n",
       "      <td>0.971000</td>\n",
       "      <td>0.996000</td>\n",
       "      <td>1.000000</td>\n",
       "      <td>1.000000</td>\n",
       "      <td>1.000000</td>\n",
       "      <td>246.381000</td>\n",
       "      <td>5.000000</td>\n",
       "    </tr>\n",
       "  </tbody>\n",
       "</table>\n",
       "</div>"
      ],
      "text/plain": [
       "          popularity   duration_ms       explicit   danceability  \\\n",
       "count  586672.000000  5.866720e+05  586672.000000  586672.000000   \n",
       "mean       27.570053  2.300512e+05       0.044086       0.563594   \n",
       "std        18.370642  1.265261e+05       0.205286       0.166103   \n",
       "min         0.000000  3.344000e+03       0.000000       0.000000   \n",
       "25%        13.000000  1.750930e+05       0.000000       0.453000   \n",
       "50%        27.000000  2.148930e+05       0.000000       0.577000   \n",
       "75%        41.000000  2.638670e+05       0.000000       0.686000   \n",
       "max       100.000000  5.621218e+06       1.000000       0.991000   \n",
       "\n",
       "              energy            key       loudness           mode  \\\n",
       "count  586672.000000  586672.000000  586672.000000  586672.000000   \n",
       "mean        0.542036       5.221603     -10.206067       0.658797   \n",
       "std         0.251923       3.519423       5.089328       0.474114   \n",
       "min         0.000000       0.000000     -60.000000       0.000000   \n",
       "25%         0.343000       2.000000     -12.891000       0.000000   \n",
       "50%         0.549000       5.000000      -9.243000       1.000000   \n",
       "75%         0.748000       8.000000      -6.482000       1.000000   \n",
       "max         1.000000      11.000000       5.376000       1.000000   \n",
       "\n",
       "         speechiness   acousticness  instrumentalness       liveness  \\\n",
       "count  586672.000000  586672.000000     586672.000000  586672.000000   \n",
       "mean        0.104864       0.449863          0.113451       0.213935   \n",
       "std         0.179893       0.348837          0.266868       0.184326   \n",
       "min         0.000000       0.000000          0.000000       0.000000   \n",
       "25%         0.034000       0.096900          0.000000       0.098300   \n",
       "50%         0.044300       0.422000          0.000024       0.139000   \n",
       "75%         0.076300       0.785000          0.009550       0.278000   \n",
       "max         0.971000       0.996000          1.000000       1.000000   \n",
       "\n",
       "             valence          tempo  time_signature  \n",
       "count  586672.000000  586672.000000   586672.000000  \n",
       "mean        0.552292     118.464857        3.873382  \n",
       "std         0.257671      29.764108        0.473162  \n",
       "min         0.000000       0.000000        0.000000  \n",
       "25%         0.346000      95.600000        4.000000  \n",
       "50%         0.564000     117.384000        4.000000  \n",
       "75%         0.769000     136.321000        4.000000  \n",
       "max         1.000000     246.381000        5.000000  "
      ]
     },
     "execution_count": 40,
     "metadata": {},
     "output_type": "execute_result"
    }
   ],
   "source": [
    "df_db_tracks.describe()"
   ]
  },
  {
   "cell_type": "code",
   "execution_count": 41,
   "metadata": {},
   "outputs": [
    {
     "data": {
      "text/html": [
       "<div>\n",
       "<style scoped>\n",
       "    .dataframe tbody tr th:only-of-type {\n",
       "        vertical-align: middle;\n",
       "    }\n",
       "\n",
       "    .dataframe tbody tr th {\n",
       "        vertical-align: top;\n",
       "    }\n",
       "\n",
       "    .dataframe thead th {\n",
       "        text-align: right;\n",
       "    }\n",
       "</style>\n",
       "<table border=\"1\" class=\"dataframe\">\n",
       "  <thead>\n",
       "    <tr style=\"text-align: right;\">\n",
       "      <th></th>\n",
       "      <th>id</th>\n",
       "      <th>followers</th>\n",
       "      <th>genres</th>\n",
       "      <th>name</th>\n",
       "      <th>popularity</th>\n",
       "    </tr>\n",
       "  </thead>\n",
       "  <tbody>\n",
       "    <tr>\n",
       "      <th>1162090</th>\n",
       "      <td>3cOzi726Iav1toV2LRVEjp</td>\n",
       "      <td>4831.0</td>\n",
       "      <td>[black comedy]</td>\n",
       "      <td>Ali Siddiq</td>\n",
       "      <td>34</td>\n",
       "    </tr>\n",
       "    <tr>\n",
       "      <th>1162091</th>\n",
       "      <td>6LogY6VMM3jgAE6fPzXeMl</td>\n",
       "      <td>46.0</td>\n",
       "      <td>[]</td>\n",
       "      <td>Rodney Laney</td>\n",
       "      <td>2</td>\n",
       "    </tr>\n",
       "    <tr>\n",
       "      <th>1162092</th>\n",
       "      <td>19boQkDEIay9GaVAWkUhTa</td>\n",
       "      <td>257.0</td>\n",
       "      <td>[]</td>\n",
       "      <td>Blake Wexler</td>\n",
       "      <td>10</td>\n",
       "    </tr>\n",
       "    <tr>\n",
       "      <th>1162093</th>\n",
       "      <td>5nvjpU3Y7L6Hpe54QuvDjy</td>\n",
       "      <td>2357.0</td>\n",
       "      <td>[black comedy]</td>\n",
       "      <td>Donnell Rawlings</td>\n",
       "      <td>15</td>\n",
       "    </tr>\n",
       "    <tr>\n",
       "      <th>1162094</th>\n",
       "      <td>2bP2cNhNBdKXHC6AnqgyVp</td>\n",
       "      <td>40.0</td>\n",
       "      <td>[new comedy]</td>\n",
       "      <td>Gabe Kea</td>\n",
       "      <td>8</td>\n",
       "    </tr>\n",
       "  </tbody>\n",
       "</table>\n",
       "</div>"
      ],
      "text/plain": [
       "                             id  followers          genres              name  \\\n",
       "1162090  3cOzi726Iav1toV2LRVEjp     4831.0  [black comedy]        Ali Siddiq   \n",
       "1162091  6LogY6VMM3jgAE6fPzXeMl       46.0              []      Rodney Laney   \n",
       "1162092  19boQkDEIay9GaVAWkUhTa      257.0              []      Blake Wexler   \n",
       "1162093  5nvjpU3Y7L6Hpe54QuvDjy     2357.0  [black comedy]  Donnell Rawlings   \n",
       "1162094  2bP2cNhNBdKXHC6AnqgyVp       40.0    [new comedy]          Gabe Kea   \n",
       "\n",
       "         popularity  \n",
       "1162090          34  \n",
       "1162091           2  \n",
       "1162092          10  \n",
       "1162093          15  \n",
       "1162094           8  "
      ]
     },
     "execution_count": 41,
     "metadata": {},
     "output_type": "execute_result"
    }
   ],
   "source": [
    "df_db_artists = pd.read_csv('../dataset/artists.csv')\n",
    "df_db_artists['genres'] = df_db_artists['genres'].apply(lambda x: x[1:-1].strip().replace(\"'\", \"\").split(','))\n",
    "df_db_artists.tail(5)"
   ]
  },
  {
   "attachments": {},
   "cell_type": "markdown",
   "metadata": {},
   "source": [
    "Join Tracks table with artists table in order to bring the Genre information and Artist popularity, in the track schema"
   ]
  },
  {
   "cell_type": "code",
   "execution_count": 42,
   "metadata": {},
   "outputs": [],
   "source": [
    "artist_information = df_db_artists.set_index('id').to_dict(orient='index')"
   ]
  },
  {
   "cell_type": "code",
   "execution_count": 43,
   "metadata": {},
   "outputs": [],
   "source": [
    "def get_genres_for_artists(id_artists: List[str]) -> List[str]:\n",
    "    genres = []\n",
    "    for artist_id in id_artists:\n",
    "        genres += artist_information[artist_id]['genres'] if artist_id in artist_information.keys() else []\n",
    "    return list(set(genres))\n",
    "\n",
    "\n",
    "def get_popularity_for_artists(id_artists: List[str]) -> List[int]:\n",
    "    popularity = []\n",
    "    for artist_id in id_artists:\n",
    "        popularity += [artist_information[artist_id]['popularity']] if artist_id in artist_information.keys() else []\n",
    "    return popularity\n",
    "\n",
    "\n",
    "def process_genre(genre: str) -> str:\n",
    "    return genre.strip()"
   ]
  },
  {
   "cell_type": "code",
   "execution_count": 44,
   "metadata": {},
   "outputs": [],
   "source": [
    "df_db_tracks['genres'] = df_db_tracks['id_artists'].apply(lambda x: get_genres_for_artists(x))"
   ]
  },
  {
   "cell_type": "code",
   "execution_count": 45,
   "metadata": {},
   "outputs": [],
   "source": [
    "# genres mix\n",
    "df_db_tracks_genres = df_db_tracks[['id', 'genres']]\n",
    "genre_mix = df_db_tracks_genres.to_dict('records')\n",
    "genre_mix = [[process_genre(g.strip()) for g in track['genres']] for track in genre_mix]"
   ]
  },
  {
   "cell_type": "code",
   "execution_count": 52,
   "metadata": {},
   "outputs": [
    {
     "data": {
      "text/plain": [
       "4514"
      ]
     },
     "execution_count": 52,
     "metadata": {},
     "output_type": "execute_result"
    }
   ],
   "source": [
    "genre_list = [genre for genre_temp_list in genre_mix for genre in genre_temp_list if genre != '']\n",
    "genre_list = list(set(genre_list))\n",
    "len(genre_list)"
   ]
  },
  {
   "attachments": {},
   "cell_type": "markdown",
   "metadata": {},
   "source": [
    "#### Genre Graph Representation"
   ]
  },
  {
   "cell_type": "code",
   "execution_count": 9,
   "metadata": {},
   "outputs": [
    {
     "data": {
      "application/vnd.jupyter.widget-view+json": {
       "model_id": "5ee5944966d74652b1767e035336f001",
       "version_major": 2,
       "version_minor": 0
      },
      "text/plain": [
       "  0%|          | 0/586672 [00:00<?, ?it/s]"
      ]
     },
     "metadata": {},
     "output_type": "display_data"
    }
   ],
   "source": [
    "graph = {}\n",
    "\n",
    "genre_mix_weight = 1\n",
    "\n",
    "for track_genres in tqdm(genre_mix):\n",
    "    # O(n^2) complexity for artists\n",
    "    for genre_root in track_genres:\n",
    "        for genre_edge in track_genres:\n",
    "            if genre_root == genre_edge: continue\n",
    "            \n",
    "            if genre_root not in graph:\n",
    "                graph[genre_root] = {}\n",
    "            \n",
    "            if genre_edge not in graph[genre_root]:\n",
    "                graph[genre_root][genre_edge] = 0\n",
    "            \n",
    "            graph[genre_root][genre_edge] += genre_mix_weight"
   ]
  },
  {
   "cell_type": "code",
   "execution_count": 16,
   "metadata": {},
   "outputs": [],
   "source": [
    "from pecanpy import pecanpy\n",
    "from pecanpy.graph import AdjlstGraph\n",
    "\n",
    "# load graph object using SparseOTF mode\n",
    "g = pecanpy.SparseOTF(p=1, q=1, workers=4, verbose=True)\n",
    "\n",
    "adjl_graph = AdjlstGraph()\n",
    "for genre in graph:\n",
    "    adjl_graph.add_node(genre)\n",
    "    for genre_to in graph[genre]:\n",
    "        adjl_graph.add_node(genre_to)\n",
    "        adjl_graph.add_edge(genre, genre_to, weight=graph[genre][genre_to], directed=False)\n",
    "\n",
    "\n",
    "g = pecanpy.SparseOTF(p=1, q=1, workers=4, verbose=True)\n",
    "g = g.from_adjlst_graph(adjl_graph)"
   ]
  },
  {
   "cell_type": "code",
   "execution_count": 17,
   "metadata": {},
   "outputs": [],
   "source": [
    "# generate random walks\n",
    "walks = g.simulate_walks(num_walks=100, walk_length=10)"
   ]
  },
  {
   "cell_type": "code",
   "execution_count": 18,
   "metadata": {},
   "outputs": [
    {
     "name": "stdout",
     "output_type": "stream",
     "text": [
      "Total number of graph nodes: 4284\n",
      "Total number of graph edges: 74782\n"
     ]
    }
   ],
   "source": [
    "print(\"Total number of graph nodes:\", g.num_nodes)\n",
    "print(\"Total number of graph edges:\", g.num_edges)"
   ]
  },
  {
   "cell_type": "code",
   "execution_count": 19,
   "metadata": {},
   "outputs": [],
   "source": [
    "# use random walks to train embeddings\n",
    "mdl = Word2Vec(walks, vector_size=4, window=2, min_count=0, sg=1, workers=4, epochs=10)"
   ]
  },
  {
   "cell_type": "code",
   "execution_count": 3,
   "metadata": {},
   "outputs": [
    {
     "name": "stdout",
     "output_type": "stream",
     "text": [
      "('jazz house', 0.9999514222145081)\n",
      "('classic house', 0.9998214244842529)\n",
      "('microhouse', 0.9996740221977234)\n",
      "('uk hip hop', 0.999575674533844)\n",
      "('chicago house', 0.9995716214179993)\n",
      "('spanish electronic', 0.9994437098503113)\n",
      "('afroswing', 0.999343991279602)\n",
      "('float house', 0.9992362856864929)\n",
      "('colombian electronic', 0.9992113709449768)\n",
      "('bass music', 0.9990977048873901)\n"
     ]
    }
   ],
   "source": [
    "for s in mdl.wv.most_similar('techno', topn = 10):\n",
    "    print(s)"
   ]
  },
  {
   "cell_type": "code",
   "execution_count": 35,
   "metadata": {},
   "outputs": [],
   "source": [
    "sample_genres = [\n",
    "    \"rock\",\n",
    "    \"techno\",\n",
    "    \"pop\",\n",
    "    \"dance pop\",\n",
    "    \"jazz\",\n",
    "    \"cool jazz\",\n",
    "    \"modern swing\",\n",
    "    \"chicago house\",\n",
    "    \"house\",\n",
    "    \"deep house\",\n",
    "    \"bass house\",\n",
    "    \"future bass\",\n",
    "    \"drill\",\n",
    "    \"rap\",\n",
    "    \"r&b\",\n",
    "    \"teen pop\",\n",
    "    \"tech house\",\n",
    "    \"electro house\",\n",
    "    \"ambient\",\n",
    "    \"hard rock\",\n",
    "    \"country\"\n",
    "]"
   ]
  },
  {
   "cell_type": "code",
   "execution_count": 30,
   "metadata": {},
   "outputs": [
    {
     "data": {
      "image/png": "[encoded data removed]",
      "text/plain": [
       "<Figure size 1200x500 with 1 Axes>"
      ]
     },
     "metadata": {},
     "output_type": "display_data"
    }
   ],
   "source": [
    "from sklearn.manifold import TSNE\n",
    "import matplotlib.pyplot as plt\n",
    "\n",
    "tokens = []\n",
    "labels = []\n",
    "\n",
    "for name in sample_genres:\n",
    "    labels.append(name)\n",
    "    tokens.append(mdl.wv.get_vector(name))\n",
    "\n",
    "tsne_model = TSNE(perplexity=5, n_components=2, init='pca', n_iter=2000, random_state=13)\n",
    "new_values = tsne_model.fit_transform(np.array(tokens))\n",
    "\n",
    "x = []\n",
    "y = []\n",
    "for value in new_values:\n",
    "    x.append(value[0])\n",
    "    y.append(value[1])\n",
    "    \n",
    "fig, ax = plt.subplots(figsize=(12,5)) \n",
    "for i in range(len(x)):\n",
    "    ax.scatter(x[i], y[i])\n",
    "    \n",
    "for i, txt in enumerate(labels):\n",
    "    ax.annotate(txt, (x[i], y[i]))\n",
    "\n",
    "plt.show()"
   ]
  },
  {
   "cell_type": "code",
   "execution_count": 17,
   "metadata": {},
   "outputs": [],
   "source": [
    "mdl.save(\"../models/genre_embeddings_v5.model\")"
   ]
  },
  {
   "cell_type": "code",
   "execution_count": 1,
   "metadata": {},
   "outputs": [],
   "source": [
    "import gensim\n",
    "\n",
    "mdl = gensim.models.Word2Vec.load(\"../models/genre_embeddings_v4.model\")"
   ]
  },
  {
   "attachments": {},
   "cell_type": "markdown",
   "metadata": {},
   "source": [
    "## Embeddings from BLMs"
   ]
  },
  {
   "cell_type": "code",
   "execution_count": 3,
   "metadata": {},
   "outputs": [],
   "source": [
    "from sentence_transformers import SentenceTransformer\n",
    "model = SentenceTransformer('bert-base-nli-mean-tokens')"
   ]
  },
  {
   "attachments": {},
   "cell_type": "markdown",
   "metadata": {},
   "source": [
    "#### Construct embedding corpus"
   ]
  },
  {
   "cell_type": "code",
   "execution_count": 75,
   "metadata": {},
   "outputs": [
    {
     "data": {
      "text/plain": [
       "(4514, 768)"
      ]
     },
     "execution_count": 75,
     "metadata": {},
     "output_type": "execute_result"
    }
   ],
   "source": [
    "#Encoding:\n",
    "all_genres_embeddings = model.encode(genre_list)\n",
    "all_genres_embeddings.shape"
   ]
  },
  {
   "attachments": {},
   "cell_type": "markdown",
   "metadata": {},
   "source": [
    "### Dimensionality Reduction"
   ]
  },
  {
   "cell_type": "code",
   "execution_count": 76,
   "metadata": {},
   "outputs": [],
   "source": [
    "from sklearn.decomposition import PCA\n",
    "\n",
    "pca_model = PCA(n_components=16, random_state=13)\n",
    "all_genres_embeddings = pca_model.fit_transform(all_genres_embeddings)"
   ]
  },
  {
   "cell_type": "code",
   "execution_count": 77,
   "metadata": {},
   "outputs": [
    {
     "data": {
      "text/plain": [
       "(4514, 16)"
      ]
     },
     "execution_count": 77,
     "metadata": {},
     "output_type": "execute_result"
    }
   ],
   "source": [
    "all_genres_embeddings.shape"
   ]
  },
  {
   "attachments": {},
   "cell_type": "markdown",
   "metadata": {},
   "source": [
    "### Scale in 0-1 range"
   ]
  },
  {
   "cell_type": "code",
   "execution_count": 78,
   "metadata": {},
   "outputs": [],
   "source": [
    "from sklearn.preprocessing import MinMaxScaler\n",
    "\n",
    "scaler = MinMaxScaler()\n",
    "\n",
    "all_genres_embeddings = scaler.fit_transform(all_genres_embeddings)"
   ]
  },
  {
   "attachments": {},
   "cell_type": "markdown",
   "metadata": {},
   "source": [
    "### Store"
   ]
  },
  {
   "cell_type": "code",
   "execution_count": 79,
   "metadata": {},
   "outputs": [],
   "source": [
    "embedding_corpus = {}\n",
    "\n",
    "for i, genre in enumerate(genre_list):\n",
    "    embedding_corpus[genre] = all_genres_embeddings[i]"
   ]
  },
  {
   "cell_type": "code",
   "execution_count": 85,
   "metadata": {},
   "outputs": [],
   "source": [
    "np.save('../models/genre_embeddings_bert_v1.npy', embedding_corpus)"
   ]
  },
  {
   "attachments": {},
   "cell_type": "markdown",
   "metadata": {},
   "source": [
    "#### Example"
   ]
  },
  {
   "cell_type": "code",
   "execution_count": 80,
   "metadata": {},
   "outputs": [
    {
     "data": {
      "image/png": "[encoded data removed]",
      "text/plain": [
       "<Figure size 1200x500 with 1 Axes>"
      ]
     },
     "metadata": {},
     "output_type": "display_data"
    }
   ],
   "source": [
    "from sklearn.manifold import TSNE\n",
    "import matplotlib.pyplot as plt\n",
    "\n",
    "tokens = []\n",
    "labels = []\n",
    "\n",
    "for i, name in enumerate(sample_genres):\n",
    "    labels.append(name)\n",
    "    tokens.append(embedding_corpus[name])\n",
    "\n",
    "tsne_model = TSNE(perplexity=5, n_components=2, init='pca', n_iter=2000, random_state=13, metric='cosine')\n",
    "new_values = tsne_model.fit_transform(np.array(tokens))\n",
    "\n",
    "x = []\n",
    "y = []\n",
    "for value in new_values:\n",
    "    x.append(value[0])\n",
    "    y.append(value[1])\n",
    "    \n",
    "fig, ax = plt.subplots(figsize=(12,5)) \n",
    "for i in range(len(x)):\n",
    "    ax.scatter(x[i], y[i])\n",
    "    \n",
    "for i, txt in enumerate(labels):\n",
    "    ax.annotate(txt, (x[i], y[i]))\n",
    "\n",
    "plt.show()"
   ]
  },
  {
   "cell_type": "code",
   "execution_count": null,
   "metadata": {},
   "outputs": [],
   "source": []
  }
 ],
 "metadata": {
  "kernelspec": {
   "display_name": "MusicRecommender-6-qvcS2A",
   "language": "python",
   "name": "python3"
  },
  "language_info": {
   "codemirror_mode": {
    "name": "ipython",
    "version": 3
   },
   "file_extension": ".py",
   "mimetype": "text/x-python",
   "name": "python",
   "nbconvert_exporter": "python",
   "pygments_lexer": "ipython3",
   "version": "3.10.10"
  },
  "orig_nbformat": 4,
  "vscode": {
   "interpreter": {
    "hash": "86660e88503c01668ae7ca9ad12d33bc1f4fed8c71473711b1f06f609cd584d4"
   }
  }
 },
 "nbformat": 4,
 "nbformat_minor": 2
}
